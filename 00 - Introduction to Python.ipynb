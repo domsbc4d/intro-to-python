{
 "cells": [
  {
   "cell_type": "code",
   "execution_count": null,
   "metadata": {},
   "outputs": [],
   "source": []
  },
  {
   "cell_type": "markdown",
   "metadata": {},
   "source": [
    "# Introduction à Python pour l'analyse de données\n",
    "\n",
    "\n",
    "Python est l'un des langages de programmations les plus populaires au monde, utilisé aussi bien pour les systèmes informatiques de la NASA, dans le moteur de recherche de Google, et par Industrial Light & Magic pour la production d'effets spéciaux pour le cinéma.\n",
    "\n",
    "C'est aussi aujourd'hui le langage de référence pour l'analyse de données et le machine learning.\n",
    "\n",
    "Ce qui le rend si populaire est que son apprentissage est intuitif, il est très facile à lire, et - bien qu'il ne soit pas aussi rapide que des langages compilés (tels que C++), sa facilité d'utilisation et sa syntaxe simple permet de gagner énormément de temps. Un grand nombre de bibliothèques et de techniques de programmation sont disponbiles pour réaliser à peu près n'importe quelle tâche, et une large et enthousiaste communauté de développeurs sont en capacité d'offrir un soutien aux nouveaux venus.\n",
    "\n",
    "\n",
    "<div class=\"alert alert-block alert-warning\">\n",
    "    <b>Objectifs d'apprentissage :</b>\n",
    "    <br>\n",
    "    <ul>\n",
    "        <li>Comprendre et avoir une expérience pratique de le la syntaxe de base de Python et de l'approche de programmation dans ce langage.</li>\n",
    "        <li>Écrire et utiliser des fonctions modulaires, et importer des bibliothèques de tierces parties.</li>\n",
    "        <li>Apprendre et appliquer les méthodes de bases des bibliothèques esstentielles d'analyse de données Numpy, Pandas et Matpolib.</li>\n",
    "        <li>Inspecter et manipuler des données pour découvrir leurs métadonnées, leurs dimensions et leur robustesse.</li>\n",
    "        <li>Apprendre comment la gestion et l'analyse de données utilise l'approche Modèle-Vue-Contrôleur du développement d'applications.</li>\n",
    "        <li>Découvrir et utiliser des outils JavaScript tels que D3, Plotly, Leaflet pour la présentation et la visualisation de données.</li>\n",
    "        <li>Apprendre comment améliorer sa connaissance et son expérience via la documentation en-ligne et les communautés de questions/réponses.</li>\n",
    "    </ul>\n",
    "</div>\n",
    "\n",
    "_Leçons_:\n",
    "\n",
    "1. [01 - Installer Python et Jupyter Notebook avec Anaconda](01%20-%20Installing%20Python%20and%20Jupyter%20Notebook%20with%20Anaconda.ipynb)\n",
    "2. [02 - Les bases de Python](02%20-%20Python%20basics.ipynb)\n",
    "3. [03 - Python niveau intermédiaire](03%20-%20Python%20intermediate.ipynb)\n",
    "4. [04 - Outils Python pour l'analyse de données](04%20-%20Python%20tools%20for%20data%20analysis.ipynb)\n",
    "5. [05 - Introduction à l'approche scientifique pour les données](05%20-%20Introduction%20to%20data%20as%20a%20science.ipynb)\n",
    "\n",
    "Cette vue d'ensemble initiale n'est pas destinée à enseigner les techniques d'analyses ou de statistiques, mais plutôt de fournir une brève introduction à la syntaxe et aux méthodes utilisées dans la programmation en Python, ainsi qu'un rapide aperçu de JavaScript pour la présentation de données. Au passage, les techniques et approches de développement logiciel pour les applications Web seront abordées, de même que des pistes pour continue son apprentissage.\n",
    "\n",
    "_Sources_:\n",
    "\n",
    "- [LearnPython.org](https://learnpython.org/)\n",
    "- [Beginning Python](http://hetland.org/writing/beginning-python-2/) by Magnus Lie Hetland, Apress\n",
    "- [10 Minutes to pandas](https://pandas.pydata.org/pandas-docs/stable/10min.html), from the pandas documentation"
   ]
  }
 ],
 "metadata": {
  "kernelspec": {
   "display_name": "Python 3",
   "language": "python",
   "name": "python3"
  },
  "language_info": {
   "codemirror_mode": {
    "name": "ipython",
    "version": 3
   },
   "file_extension": ".py",
   "mimetype": "text/x-python",
   "name": "python",
   "nbconvert_exporter": "python",
   "pygments_lexer": "ipython3",
   "version": "3.7.1"
  },
  "latex_envs": {
   "LaTeX_envs_menu_present": true,
   "autocomplete": true,
   "bibliofile": "biblio.bib",
   "cite_by": "apalike",
   "current_citInitial": 1,
   "eqLabelWithNumbers": true,
   "eqNumInitial": 1,
   "hotkeys": {
    "equation": "Ctrl-E",
    "itemize": "Ctrl-I"
   },
   "labels_anchors": false,
   "latex_user_defs": false,
   "report_style_numbering": false,
   "user_envs_cfg": false
  }
 },
 "nbformat": 4,
 "nbformat_minor": 2
}
