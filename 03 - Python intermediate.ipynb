{
 "cells": [
  {
   "cell_type": "markdown",
   "metadata": {},
   "source": [
    "[(précédent)](02%20-%20-%20-%20Python%20-%20basics.ipynb) | [(index)](00%20-%20-%20-%20Introduction%20-%20to%20-%20Python.ipynb) | [(suivant)](04%20-%20-%20-%20Python%20-%20tools%20-%20for%20-%20data%20-%20analysis.ipynb)\n",
    "\n",
    "# Python niveau intermédiaire\n",
    "\n",
    "<div class=\"alert alert-block alert-warning\">\n",
    "    <b>Objectifs d'apprentissage :</b>\n",
    "    <br>\n",
    "    <ul>\n",
    "        <li>Développer et utiliser du code réutilisable en l'encapsulant dans des fonctions.</li>\n",
    "        <li>Empaqueter des fonctions dans des classes souples et extensibles.</li>\n",
    "        <li>Appliquer des clôtures (*closure*) et des décorateurs à des fonctions pour en modifier le comportement.</li>\n",
    "    </ul>\n",
    "</div>\n",
    "\n",
    "Dans [module précédent](02 - Python basics.ipynb), le code se limitait à de courts blocs. Pour résoudre des problèmes plus complexes, il faudra souvent du code pouvant s'étendre sur des centaines voire des milleirs de lignes de code. Pour pouvoir réutiliser ce code, il ne serait pas pratique de devoir le copier et coller de nombreuses fois. Pire encore, cela signifierait que toute erreur serait amplifiée, et les modifications à apporter au code seraient difficiles à gérer.\n",
    "\n",
    "Il vaudrait beaucoup mieux avoir un module qui représente une tâche donnée, le perfectionner, et l'appeler pour résoudre un problème donné ou exécuter une opération donnée.\n",
    "\n",
    "En développement logiciel, cette approche de regrouper des fonctions en un code modulaire est appelé \"abstraction\". Un système logiciel complet consiste d'un certain nombre de modules interagissants pour créer une expérience intégrée.\n",
    "\n",
    "En Python, ces modules sont appelées fonctions (`function`) et un ensemble complet de fonctions regreoupées autour d'une série de tâches liées est appelé bibliothèque ou module. Les bibliothèques permettent d'hériter d'une vaste variété de solutions logicielles développées et maintenues par d'autres gens.\n",
    "\n",
    "Python est [open source](https://en.wikipedia.org/wiki/Open-source_software), ce qui signifie que son code source est mis à disposition sous une license qui permet à quiconque d'étudier, modifier et  distribuer le logiciel à tout le monde pour n'importe quel but. De nombreuses bibliothèques Python sont elles aussi open source. Il y ainsi des milliers de bibliothèques que vous pouvez utiliser, et, lorsque vous vous en sentirez capables, auxquelles vous pouvez contribuer.\n",
    "\n",
    "## Fonctions\n",
    "\n",
    "Les fonctions sont des modules de code exécutables, dont certaines peuvent prendres des paramères ou arguments (à savoir des variables que vous fournissez à la fonction), qui effectue une tâche et renvoie une valeur. Elles permettent d'organiser le code en blocs individuels, ce qui améliore la lisibilité du programme et permet de gagner du temps.\n",
    "\n",
    "Ces fonctions peuvent aussi facilement être partagées avec d'autres programmeurs, ce qui peut leur faire gagner du temps aussi.\n",
    "<br>\n",
    "<div class=\"alert alert-block alert-info\">\n",
    "    <b>Syntaxe</b>\n",
    "    <br>\n",
    "    <ul>\n",
    "        <li>Une fonction est structurée par l'instruction `def` :</li>\n",
    "        `def function_name(parameters):\n",
    "         code\n",
    "         return response`\n",
    "        <li>`return` est optionnel, mais permet de renvoyer les résultats d'une tâche réalisée par la fonction au moment de son invocation</li>\n",
    "        <li>Pour déterminer si un objet test une fonction (c'est à dire peut être invoqué - *callable*), utiliser `callable`, par ex. `callable(function)` renvoie  `True`</li>\n",
    "    </ul>\n",
    "</div>"
   ]
  },
  {
   "cell_type": "code",
   "execution_count": 1,
   "metadata": {},
   "outputs": [
    {
     "name": "stdout",
     "output_type": "stream",
     "text": [
      "Hello, World!\n",
      "True\n"
     ]
    }
   ],
   "source": [
    "# Une fonction simple sans arguments \n",
    "def say_hello():\n",
    "    print(\"Bonjour le monde !\")\n",
    "\n",
    "# On l'invoque simplement avec\n",
    "say_hello()\n",
    "\n",
    "# Et on vérifie qu'elle est invoquable\n",
    "print(callable(say_hello))"
   ]
  },
  {
   "cell_type": "markdown",
   "metadata": {},
   "source": [
    "Un argument peut être n'importe quelle variable, telle que des entiers, des chaînes de caractères, des listes, des dictionnaires ou même des fonctions. Ceci souligne l'importance de laisser des commentaires et explications dans le code pour s'assurer que les utilisateurs de la fonction puissent savoir quelles variables la fonction attend et dans quel ordre.\n",
    "\n",
    "Les fonctions peuvent aussi effectuer des calcules et renvoyer les résultats au code qui les ont invoquées."
   ]
  },
  {
   "cell_type": "code",
   "execution_count": 1,
   "metadata": {},
   "outputs": [
    {
     "name": "stdout",
     "output_type": "stream",
     "text": [
      "Bonjour, Jill! J'espère que vous passez une excellente journée.\n"
     ]
    },
    {
     "data": {
      "text/plain": [
       "15"
      ]
     },
     "execution_count": 1,
     "metadata": {},
     "output_type": "execute_result"
    }
   ],
   "source": [
    "# Une fonction à deux arguments\n",
    "def say_hello_to_user(username, greeting):\n",
    "    # Renvoie une salutation à un utilisateur\n",
    "    print(\"Bonjour, {} ! J'espère que vous passez une excellente {}.\".format(username, greeting))\n",
    "\n",
    "# On l'invoque\n",
    "say_hello_to_user(\"Jill\", \"journée\")\n",
    "\n",
    "# On effectue un calcul et on le renvoie\n",
    "def sum_two_numbers(x, y):\n",
    "    # Renvoie la somme de x + y \n",
    "    return x + y\n",
    "\n",
    "sum_two_numbers(5, 10)"
   ]
  },
  {
   "cell_type": "markdown",
   "metadata": {},
   "source": [
    "On peut voir qu'échanger les valeurs `username` et `greeting` dans la fonction `say_hello_to_user` donnerait des résultats inattendus, mais qu'un tel échange n'affecterait pas la fonction `sum_two_numbers`.\n",
    "\n",
    "Non seulement vous pouvez invoquer des fonctions depuis une fonction, mais vous pouvez créer des variables qui contiennent des fonctions ou des fonctions qui renvoie des fonctions."
   ]
  },
  {
   "cell_type": "code",
   "execution_count": 3,
   "metadata": {},
   "outputs": [
    {
     "name": "stdout",
     "output_type": "stream",
     "text": [
      "625\n"
     ]
    }
   ],
   "source": [
    "def number_powered(number, exponent):\n",
    "    # Renvoie un nombre porté  à la puissance d'un autre\n",
    "    return number ** exponent\n",
    "\n",
    "# Les fonctions définies dans des cellules précédentes de Jupyter restent disponibles\n",
    "# Cela implique que  `sum_two_numbers` est encore disponible ici\n",
    "def sum_and_power(number1, number2, exponent):\n",
    "    # Renvoie la somme de deux nombres portée à une puissance\n",
    "    summed = sum_two_numbers(number1, number2)\n",
    "    return number_powered(summed, exponent)\n",
    "\n",
    "# Inovque `sum_and_power`\n",
    "print(sum_and_power(2, 3, 4))"
   ]
  },
  {
   "cell_type": "markdown",
   "metadata": {},
   "source": [
    "En utilisant des noms explicites et des commentaires, il est posible de garder un code clair et lisible.\n",
    "\n",
    "Une meilleure manière d'écrire des commentaires pour une fonction est d'utiliser le mécanisme des `docstrings`. \n",
    "<div class=\"alert alert-block alert-info\">\n",
    "    <b>Syntaxe</b>\n",
    "    <br>\n",
    "    <ul>\n",
    "        <li>Les *docstrings* sont créées avec du texte compris entre une série de 3 guillemets, par exemple `\"\"\" Ceci est une docstring \"\"\"`</li>\n",
    "        <li>On peut accéder à la docstring d'une fonction via `function.__doc__`</li>\n",
    "    </ul>\n",
    "</div>"
   ]
  },
  {
   "cell_type": "code",
   "execution_count": 4,
   "metadata": {},
   "outputs": [
    {
     "name": "stdout",
     "output_type": "stream",
     "text": [
      "\n",
      "    An example function which returns `True`.\n",
      "    \n",
      "True\n"
     ]
    }
   ],
   "source": [
    "def docstring_example():\n",
    "    \"\"\"\n",
    "    Un exemple d'une fonction qui renvoie `True`.\n",
    "    \"\"\"\n",
    "    return True\n",
    "\n",
    "# Affichage de la  docstring\n",
    "print(docstring_example.__doc__)\n",
    "\n",
    "# Invocation de la fonction\n",
    "print(docstring_example())"
   ]
  },
  {
   "cell_type": "markdown",
   "metadata": {},
   "source": [
    "## Classes et Objets\n",
    "\n",
    "Un objet Python complet encapsule des variables et des fonctions dans une entité unique. Les objets obtiennent ces variables et fonctions de modèles appelés `classes`.\n",
    "\n",
    "Les classes fournissent le lieu où la majeur partie du code est exécuté en Python, et la programmation en Python consiste en grande partie à créer et utiliser des classes pour effectuer des tâches. \n",
    "\n",
    "Une classe très simple ressemble à ceci :"
   ]
  },
  {
   "cell_type": "code",
   "execution_count": 3,
   "metadata": {},
   "outputs": [
    {
     "name": "stdout",
     "output_type": "stream",
     "text": [
      "Regardez, une variable !\n",
      "Je suis une fonction de classe !\n",
      "\n",
      "    A demonstration class.\n",
      "    \n",
      "\n",
      "        A demonstration class function.\n",
      "        \n"
     ]
    }
   ],
   "source": [
    "class myClass:\n",
    "    \"\"\"\n",
    "    A demonstration class.\n",
    "    \"\"\"\n",
    "    my_variable = \"Regardez, une variable !\"\n",
    "    \n",
    "    def my_function(self):\n",
    "        \"\"\"\n",
    "        A demonstration class function.\n",
    "        \"\"\"\n",
    "        return \"Je suis une fonction de classe !\"\n",
    "\n",
    "# Pour invoquer une classe, on crée un nouvel objet qui instancie cette classe\n",
    "new_class = myClass()\n",
    "\n",
    "# Les fonctions et les variables défines dans la classe sont accessibles en utilisant un point\n",
    "print(new_class.my_variable)\n",
    "print(new_class.my_function())\n",
    "\n",
    "# Pour accéder à la docstring de la classe\n",
    "print(myClass.__doc__)\n",
    "print(myClass.my_function.__doc__)"
   ]
  },
  {
   "cell_type": "markdown",
   "metadata": {},
   "source": [
    "Dans le détail de cette nouvelle syntaxe :\n",
    "<div class=\"alert alert-block alert-info\">\n",
    "    <b>Syntaxe</b>\n",
    "    <br>\n",
    "    <ul>\n",
    "        <li>Pour instancier une classe, on invoque `class()`. Invoquer `class` sans les parenthèses donne accès à l'objet classe lui même. Cela aussi peut s'avérer utile, par exemple pour passer une classe en tant que variable.</li>\n",
    "        <li>On accède à toutes les variables et les fonctions d'une classe avec une invocation à point, `.function()` ou `.variable`. De nouvelles fonctions et variables peuvent être ajouté à une instance de classe déjà créée. En revanche, ces ajouts seront limités à cette instance, pas aux autres instances créées par ailleurs.</li>\n",
    "        <li>Les fonctions à l'intérieur d'une classe prennent toujours un argument de base, appelé par convention `self`. Les raisons pour lesquelles `self` est nécessaire sont complexes, mais pour faire simple, il suffit de penser à `self`comme étant l'objet lui-même. Ainsi, à l'intérieur d'une classe, `self.function` est la façon d'invoquer une fonction de cette classe.</li>\n",
    "        <li>Les *docstring*s sont disponibles comme elles le sont pour les fonctions.</li>\n",
    "    </ul>\n",
    "</div>"
   ]
  },
  {
   "cell_type": "code",
   "execution_count": 4,
   "metadata": {},
   "outputs": [
    {
     "name": "stdout",
     "output_type": "stream",
     "text": [
      "Bonjour, Bob ! Regardez, une variable !\n"
     ]
    },
    {
     "ename": "AttributeError",
     "evalue": "'myClass' object has no attribute 'my_variable2'",
     "output_type": "error",
     "traceback": [
      "\u001b[0;31m---------------------------------------------------------------------------\u001b[0m",
      "\u001b[0;31mAttributeError\u001b[0m                            Traceback (most recent call last)",
      "\u001b[0;32m<ipython-input-4-b78303ac070b>\u001b[0m in \u001b[0;36m<module>\u001b[0;34m\u001b[0m\n\u001b[1;32m      5\u001b[0m \u001b[0;34m\u001b[0m\u001b[0m\n\u001b[1;32m      6\u001b[0m \u001b[0;31m# En revanche, accéder à  my_variable2 dans new_class génère une erreur causes an error\u001b[0m\u001b[0;34m\u001b[0m\u001b[0;34m\u001b[0m\u001b[0;34m\u001b[0m\u001b[0m\n\u001b[0;32m----> 7\u001b[0;31m \u001b[0mprint\u001b[0m\u001b[0;34m(\u001b[0m\u001b[0mnew_class\u001b[0m\u001b[0;34m.\u001b[0m\u001b[0mmy_variable2\u001b[0m\u001b[0;34m)\u001b[0m\u001b[0;34m\u001b[0m\u001b[0;34m\u001b[0m\u001b[0m\n\u001b[0m",
      "\u001b[0;31mAttributeError\u001b[0m: 'myClass' object has no attribute 'my_variable2'"
     ]
    }
   ],
   "source": [
    "# Ajouter une nouvelle variable à une instance de classe\n",
    "new_class1 = myClass()\n",
    "new_class1.my_variable2 = \"Bonjour, Bob !\"\n",
    "print(new_class1.my_variable2, new_class1.my_variable)\n",
    "\n",
    "# En revanche, accéder à  my_variable2 dans new_class génère une erreur causes an error\n",
    "print(new_class.my_variable2)"
   ]
  },
  {
   "cell_type": "markdown",
   "metadata": {},
   "source": [
    "Les classes peuvent être initialisées avec un jeu de variables disponibles. Cela permet de passer des arguments à l'instanciation de la classe pour en initialiser les variables.\n",
    "<div class=\"alert alert-block alert-info\">\n",
    "    <b>Syntaxe</b>\n",
    "    <br>\n",
    "    <ul>\n",
    "        <li>Initialiser une classe avec la fonction spéciale `def __init__(self)`</li>\n",
    "        <li>Passer des arguments à vos classes avec `__init__(self, arguments)`</li>\n",
    "        <li>On peut aussi distinguer entre les *arguments*, et les arguments à mots-clefs (*keywoard arguments*) :</li>\n",
    "        <ul>\n",
    "            <li>**arguments**: ceux-ci sont passés de manière classique, en un seul terme, par ex. `my_function(argument)`.</li>\n",
    "            <li>**keyword arguments**: ceux-ci sont passés d'une façon similaire aux entrées d'un dictionnaire, par ex `my_function(keyword_argument = value)`. Cela permet aussi de définit une valeur par défaut pour un argument. Si aucune valeur n'est donné pour l'argument en question, la valeur par défaut sera utilisé sans générer d'erreur pour la fonction.</li>\n",
    "            <li>Certaines fonctions nécessitent de nombreux arguments et arguments à mots-clefs lors de leur invocation, ce qui peut rendre les choses compliquées. On peut dans ce cas considérer les arguments comme une liste de valeurs, et les arguments à mots-clefs comme un dictionnaire. Cela est possible dans le code de la façon suivante : `my_function(*args, **kwargs)` où `*args` sera une liste de valeurs ordonnées, et `**kwargs` un dictionnaire.</li>\n",
    "        </ul>\n",
    "    </ul>\n",
    "</div>"
   ]
  },
  {
   "cell_type": "code",
   "execution_count": 6,
   "metadata": {},
   "outputs": [
    {
     "name": "stdout",
     "output_type": "stream",
     "text": [
      "Bonjour le monde ! None\n",
      "Bonjour le monde ! Bob\n",
      "Arg 1: Alice\n",
      "Arg 2: Bob\n",
      "Arg 3: Carol\n",
      "Arg 4: Dave\n",
      "Alice - Ingénieur\n",
      "Bob - Consultant\n",
      "Carol - Avocat\n",
      "Dave - Docteur\n",
      "Bonjour le monde !\n"
     ]
    },
    {
     "data": {
      "text/plain": [
       "True"
      ]
     },
     "execution_count": 6,
     "metadata": {},
     "output_type": "execute_result"
    }
   ],
   "source": [
    "# Une demonstration de tous ces nouveaux concepts\n",
    "\n",
    "class demoClass:\n",
    "    \"\"\"\n",
    "    A demonstration class with an __init__ function, and a function that takes args and kwargs.\n",
    "    \"\"\"\n",
    "    \n",
    "    def __init__(self, argument = None):\n",
    "        \"\"\"\n",
    "        A function that is called automatically when the demoClass is initialised.\n",
    "        \"\"\"\n",
    "        self.demo_variable = \"Bonjour le monde !\"\n",
    "        self.initial_variable = argument\n",
    "        \n",
    "    def demo_class(self, *args, **kwargs):\n",
    "        \"\"\"\n",
    "        A demo class that loops through any args and kwargs provided and prints them.\n",
    "        \"\"\"\n",
    "        for i, a in enumerate(args):\n",
    "            print(\"Arg {}: {}\".format(i+1, a))\n",
    "        for k, v in kwargs.items():\n",
    "            print(\"{} - {}\".format(k, v))\n",
    "        if kwargs.get(self.initial_variable):\n",
    "            print(self.demo_variable)\n",
    "        return True\n",
    "\n",
    "demo1 = demoClass()\n",
    "demo2 = demoClass(\"Bob\")\n",
    "\n",
    "# Comment ont été initialisés chacun des objets de démo ??\n",
    "print(demo1.demo_variable, demo1.initial_variable)\n",
    "print(demo2.demo_variable, demo2.initial_variable)\n",
    "\n",
    "# Une démo du passage d'arguments comme liste et d'arguments à mots-clefs comme dictionnaire\n",
    "args = [\"Alice\", \"Bob\", \"Carol\", \"Dave\"]\n",
    "kwargs = {\"Alice\": \"Ingénieur\",\n",
    "          \"Bob\": \"Consultant\",\n",
    "          \"Carol\": \"Avocat\",\n",
    "          \"Dave\": \"Docteur\"\n",
    "         }\n",
    "demo2.demo_class(*args, **kwargs)"
   ]
  },
  {
   "cell_type": "markdown",
   "metadata": {},
   "source": [
    "Utiliser `*args` et `**kwargs` dans vos appels de fonction pendant que vous développez permet de changer votre code plus facilement, sans avoir à repasser sur toutes les lignes de code qui appelle la dite fonction si vous devez par exemple changer l'ordre ou le nombre des arguments appelés. \n",
    "\n",
    "Cela permet de réduire les erreurs, améliore la lisibilté et rend l'expérience de progrmmation plus agréable.\n",
    "\n",
    "À ce stade, vous avez appris les fondamentaux de la syntaxe Python, ainsi que comment créer du code modulaire. Nous allons maintenant voir comment rendre le code réutilisable et facile à partager.\n",
    "\n",
    "## Modules et Paquets\n",
    "\n",
    "Un module en Python est un ensemble de classes ou de fonctions qui encapsulent un unique ensemble de tâches reliées. Les paquets sont des ensembles de modules assemblés dans une unité. On parle aussi de bibliothèque (*library*).\n",
    "\n",
    "Pour créer un module, il suffit de sauvergader le code d'une classe dans un fichier avec une extension `.py` (comme un fichier texte utilise l'extension `.txt`).\n",
    "\n",
    "### Écrire des  modules\n",
    "\n",
    "Un ensemble de modules dans une bibliothèque nécessite un ensemble spécifique de besoins. S'il on souhaite par exemple développeur un jeu de ping pong, on pourrait placer la logique du jeu dans un module, et les fonctionnalités de visualisation dans un autre. Cela mènerait à une structure de fichiers telle que :\n",
    "\n",
    "    pingpong/\n",
    "    pingpong/game.py\n",
    "    pingpong/draw.py\n",
    "\n",
    "Chaque fichier contient un ensemble de fonctions. Imaginons que `draw.py` ait une fonction `draw_game`. La syntaxe pour importer cette fonction dans le fichier`game.py` serait alors :\n",
    "\n",
    "    import draw\n",
    "    \n",
    "Cette commande importe l'intégralité du fichier `draw.py`. Après cela, les fonctions de ce fichier peuvent être invoquées avec par exemple `draw.draw_game`.\n",
    "\n",
    "Alternativement, chaque fonction peut être importée individuellement :\n",
    "\n",
    "    from draw import draw_game\n",
    "    \n",
    "Il viendra un moment où vous souhaiterez exécuter des programmes hors d'une interpréteur (tel que  Jupyter Notebook). Pour exécuter un programme en ligne de commande, celui-ci doit avoir une fonction spéciale appelée `main` qui sera invoquée comme suit :\n",
    "\n",
    "    if __name__ == '__main__':\n",
    "        main()\n",
    "        \n",
    "Pour récapituler, la syntaxe pour invoquer `game.py` en ligne de commande serait :\n",
    "\n",
    "    # game.py\n",
    "    # Importe la fonction draw_game définie dans draw.py\n",
    "    from draw import draw_game\n",
    "\n",
    "    def play_game():\n",
    "        ...\n",
    "\n",
    "    def main():\n",
    "        result = play_game()\n",
    "        draw_game(result)\n",
    "\n",
    "    # Si ce script est exécuté, main() sera invoqué\n",
    "    if __name__ == '__main__':\n",
    "        main()\n",
    "\n",
    "<div class=\"alert alert-block alert-info\">\n",
    "    <b>Syntaxe</b>\n",
    "    <br>\n",
    "    <ul>\n",
    "        <li>Les fonctions et classes Python sont sauvegardées dans des fichiers avec l'extesion`.py` pour pouvoir être réutilisées</li>\n",
    "        <li>Ces fonctions peuvent être importées de ces fichiers en totalité en utilisant soit`import filename` (sans l'extension `.py`), ou bien individuellement avec `from filename import class, function1, function2`</li>\n",
    "        <li>Vous noterez peut-être que lorsque vous exécuter un programme, Python crée automatique un fichier du même nom mais avec une extesion `.pyc`. Il s'agit d'une version compilée du programme, générée automatiquement.</li>\n",
    "        <li>Pour exécuter un programme en ligne de commande, il faut définir une fonction `main` et l'invoquer comme suit</li>\n",
    "        `if __name__ == '__main__':\n",
    "            main()`\n",
    "        <li>Si un module définit un grand nombre de fonctions que vous comptez uiliser extensivement, vous pouvez définir un alias pour le module. Par exemple, nous utiliserons à répétition un module appelé `pandas` dans la section suivante. La convention veut qu'on l'importe sous l'alias `pd` avec `import pandas as pd`. Dans ce cas, vous aurez accès aux fonctions de `pandas` en utilisant l'invocation `pd.function`</li>\n",
    "        <li>L'import de module peut être soumis à des conditions logiques. En utilisant un alias unique au travers des différentes conditions, il est possible d'invoquer des codes différents suivant le flux du programme.</li>        \n",
    "    </ul>\n",
    "</div>\n",
    "\n",
    "En rassemblant tout cela dans un exemple en pseudo-code (non-exécutable) :"
   ]
  },
  {
   "cell_type": "code",
   "execution_count": 8,
   "metadata": {},
   "outputs": [
    {
     "ename": "NameError",
     "evalue": "name 'visual_mode' is not defined",
     "output_type": "error",
     "traceback": [
      "\u001b[1;31m---------------------------------------------------------------------------\u001b[0m",
      "\u001b[1;31mNameError\u001b[0m                                 Traceback (most recent call last)",
      "\u001b[1;32m<ipython-input-8-c1bc1f53a817>\u001b[0m in \u001b[0;36m<module>\u001b[1;34m()\u001b[0m\n\u001b[0;32m      1\u001b[0m \u001b[1;31m# game.py\u001b[0m\u001b[1;33m\u001b[0m\u001b[1;33m\u001b[0m\u001b[0m\n\u001b[0;32m      2\u001b[0m \u001b[1;31m# Import the draw module\u001b[0m\u001b[1;33m\u001b[0m\u001b[1;33m\u001b[0m\u001b[0m\n\u001b[1;32m----> 3\u001b[1;33m \u001b[1;32mif\u001b[0m \u001b[0mvisual_mode\u001b[0m\u001b[1;33m:\u001b[0m\u001b[1;33m\u001b[0m\u001b[0m\n\u001b[0m\u001b[0;32m      4\u001b[0m     \u001b[1;31m# in visual mode, we draw using graphics\u001b[0m\u001b[1;33m\u001b[0m\u001b[1;33m\u001b[0m\u001b[0m\n\u001b[0;32m      5\u001b[0m     \u001b[1;32mimport\u001b[0m \u001b[0mdraw_visual\u001b[0m \u001b[1;32mas\u001b[0m \u001b[0mdraw\u001b[0m\u001b[1;33m\u001b[0m\u001b[0m\n",
      "\u001b[1;31mNameError\u001b[0m: name 'visual_mode' is not defined"
     ]
    }
   ],
   "source": [
    "# game.py\n",
    "# Importer le module draw\n",
    "if visual_mode:\n",
    "    # en mode visuel, on utilise des graphismes\n",
    "    import draw_visual as draw\n",
    "else:\n",
    "    # In mode textuel, on affiche du texte\n",
    "    import draw_textual as draw\n",
    "\n",
    "def main():\n",
    "    result = play_game()\n",
    "    # En fonction de visual_mode, le rendu sera soit visuel soit textuel\n",
    "    draw.draw_game(result)"
   ]
  },
  {
   "cell_type": "markdown",
   "metadata": {},
   "source": [
    "Notez que bien le pseudo-code ne soit pas exécutable, cela ne gêne en rien Jupyter Notebook - il est donc tout à fait possible d'y expérimenter sur des bouts de code sans rien casser.\n",
    "\n",
    "## Les modules pré-définis\n",
    "\n",
    "Il existe un grand nombre de modules pré-definis. Jupyter Notebook fournit qui plus est une liste de modules tiers encore plus vaste que vous pourrez explorer.\n",
    "\n",
    "<div class=\"alert alert-block alert-info\">\n",
    "    <b>Syntaxe</b>\n",
    "    <br>\n",
    "    <ul>\n",
    "        <li>Après avoir importer un module, `dir(module)` permet de lister toutes les fonctions mises à disposition par ce module.</li>\n",
    "        <li>On peut aussi lire les docstrings du module avec `help(module)`</li>\n",
    "    </ul>\n",
    "</div>\n",
    "\n",
    "Explorons un module que nous allons apprendre à utiliser par la suite, `pandas`."
   ]
  },
  {
   "cell_type": "code",
   "execution_count": 7,
   "metadata": {},
   "outputs": [
    {
     "name": "stdout",
     "output_type": "stream",
     "text": [
      "Help on package pandas:\n",
      "\n",
      "NAME\n",
      "    pandas\n",
      "\n",
      "DESCRIPTION\n",
      "    pandas - a powerful data analysis and manipulation library for Python\n",
      "    =====================================================================\n",
      "    \n",
      "    **pandas** is a Python package providing fast, flexible, and expressive data\n",
      "    structures designed to make working with \"relational\" or \"labeled\" data both\n",
      "    easy and intuitive. It aims to be the fundamental high-level building block for\n",
      "    doing practical, **real world** data analysis in Python. Additionally, it has\n",
      "    the broader goal of becoming **the most powerful and flexible open source data\n",
      "    analysis / manipulation tool available in any language**. It is already well on\n",
      "    its way toward this goal.\n",
      "    \n",
      "    Main Features\n",
      "    -------------\n",
      "    Here are just a few of the things that pandas does well:\n",
      "    \n",
      "      - Easy handling of missing data in floating point as well as non-floating\n",
      "        point data.\n",
      "      - Size mutability: columns can be inserted and deleted from DataFrame and\n",
      "        higher dimensional objects\n",
      "      - Automatic and explicit data alignment: objects can be explicitly aligned\n",
      "        to a set of labels, or the user can simply ignore the labels and let\n",
      "        `Series`, `DataFrame`, etc. automatically align the data for you in\n",
      "        computations.\n",
      "      - Powerful, flexible group by functionality to perform split-apply-combine\n",
      "        operations on data sets, for both aggregating and transforming data.\n",
      "      - Make it easy to convert ragged, differently-indexed data in other Python\n",
      "        and NumPy data structures into DataFrame objects.\n",
      "      - Intelligent label-based slicing, fancy indexing, and subsetting of large\n",
      "        data sets.\n",
      "      - Intuitive merging and joining data sets.\n",
      "      - Flexible reshaping and pivoting of data sets.\n",
      "      - Hierarchical labeling of axes (possible to have multiple labels per tick).\n",
      "      - Robust IO tools for loading data from flat files (CSV and delimited),\n",
      "        Excel files, databases, and saving/loading data from the ultrafast HDF5\n",
      "        format.\n",
      "      - Time series-specific functionality: date range generation and frequency\n",
      "        conversion, moving window statistics, moving window linear regressions,\n",
      "        date shifting and lagging, etc.\n",
      "\n",
      "PACKAGE CONTENTS\n",
      "    _libs (package)\n",
      "    _version\n",
      "    api (package)\n",
      "    compat (package)\n",
      "    computation (package)\n",
      "    conftest\n",
      "    core (package)\n",
      "    errors (package)\n",
      "    formats (package)\n",
      "    io (package)\n",
      "    json\n",
      "    lib\n",
      "    parser\n",
      "    plotting (package)\n",
      "    testing\n",
      "    tests (package)\n",
      "    tools (package)\n",
      "    tseries (package)\n",
      "    tslib\n",
      "    types (package)\n",
      "    util (package)\n",
      "\n",
      "SUBMODULES\n",
      "    _hashtable\n",
      "    _lib\n",
      "    _tslib\n",
      "    offsets\n",
      "\n",
      "DATA\n",
      "    IndexSlice = <pandas.core.indexing._IndexSlice object>\n",
      "    NaT = NaT\n",
      "    __docformat__ = 'restructuredtext'\n",
      "    datetools = <module 'pandas.core.datetools' from '/home/dom/...ython3....\n",
      "    describe_option = <pandas.core.config.CallableDynamicDoc object>\n",
      "    get_option = <pandas.core.config.CallableDynamicDoc object>\n",
      "    json = <module 'pandas.json' from '/home/dom/anaconda3/lib/python3.7/s...\n",
      "    lib = <module 'pandas.lib' from '/home/dom/anaconda3/lib/python3.7/sit...\n",
      "    options = <pandas.core.config.DictWrapper object>\n",
      "    parser = <module 'pandas.parser' from '/home/dom/anaconda3/lib/python3...\n",
      "    plot_params = {'xaxis.compat': False}\n",
      "    reset_option = <pandas.core.config.CallableDynamicDoc object>\n",
      "    set_option = <pandas.core.config.CallableDynamicDoc object>\n",
      "    tslib = <module 'pandas.tslib' from '/home/dom/anaconda3/lib/python3.7...\n",
      "\n",
      "VERSION\n",
      "    0.23.4\n",
      "\n",
      "FILE\n",
      "    /home/dom/anaconda3/lib/python3.7/site-packages/pandas/__init__.py\n",
      "\n",
      "\n"
     ]
    }
   ],
   "source": [
    "import pandas as pd\n",
    "\n",
    "help(pd)"
   ]
  },
  {
   "cell_type": "code",
   "execution_count": 10,
   "metadata": {},
   "outputs": [
    {
     "data": {
      "text/plain": [
       "['Categorical',\n",
       " 'CategoricalIndex',\n",
       " 'DataFrame',\n",
       " 'DateOffset',\n",
       " 'DatetimeIndex',\n",
       " 'ExcelFile',\n",
       " 'ExcelWriter',\n",
       " 'Expr',\n",
       " 'Float64Index',\n",
       " 'Grouper',\n",
       " 'HDFStore',\n",
       " 'Index',\n",
       " 'IndexSlice',\n",
       " 'Int64Index',\n",
       " 'Interval',\n",
       " 'IntervalIndex',\n",
       " 'MultiIndex',\n",
       " 'NaT',\n",
       " 'Panel',\n",
       " 'Panel4D',\n",
       " 'Period',\n",
       " 'PeriodIndex',\n",
       " 'RangeIndex',\n",
       " 'Series',\n",
       " 'SparseArray',\n",
       " 'SparseDataFrame',\n",
       " 'SparseList',\n",
       " 'SparseSeries',\n",
       " 'Term',\n",
       " 'TimeGrouper',\n",
       " 'Timedelta',\n",
       " 'TimedeltaIndex',\n",
       " 'Timestamp',\n",
       " 'UInt64Index',\n",
       " 'WidePanel',\n",
       " '_DeprecatedModule',\n",
       " '__builtins__',\n",
       " '__cached__',\n",
       " '__doc__',\n",
       " '__docformat__',\n",
       " '__file__',\n",
       " '__loader__',\n",
       " '__name__',\n",
       " '__package__',\n",
       " '__path__',\n",
       " '__spec__',\n",
       " '__version__',\n",
       " '_hashtable',\n",
       " '_lib',\n",
       " '_libs',\n",
       " '_np_version_under1p10',\n",
       " '_np_version_under1p11',\n",
       " '_np_version_under1p12',\n",
       " '_np_version_under1p13',\n",
       " '_np_version_under1p14',\n",
       " '_np_version_under1p15',\n",
       " '_tslib',\n",
       " '_version',\n",
       " 'api',\n",
       " 'bdate_range',\n",
       " 'compat',\n",
       " 'concat',\n",
       " 'core',\n",
       " 'crosstab',\n",
       " 'cut',\n",
       " 'date_range',\n",
       " 'datetime',\n",
       " 'datetools',\n",
       " 'describe_option',\n",
       " 'errors',\n",
       " 'eval',\n",
       " 'ewma',\n",
       " 'ewmcorr',\n",
       " 'ewmcov',\n",
       " 'ewmstd',\n",
       " 'ewmvar',\n",
       " 'ewmvol',\n",
       " 'expanding_apply',\n",
       " 'expanding_corr',\n",
       " 'expanding_count',\n",
       " 'expanding_cov',\n",
       " 'expanding_kurt',\n",
       " 'expanding_max',\n",
       " 'expanding_mean',\n",
       " 'expanding_median',\n",
       " 'expanding_min',\n",
       " 'expanding_quantile',\n",
       " 'expanding_skew',\n",
       " 'expanding_std',\n",
       " 'expanding_sum',\n",
       " 'expanding_var',\n",
       " 'factorize',\n",
       " 'get_dummies',\n",
       " 'get_option',\n",
       " 'get_store',\n",
       " 'groupby',\n",
       " 'infer_freq',\n",
       " 'interval_range',\n",
       " 'io',\n",
       " 'isna',\n",
       " 'isnull',\n",
       " 'json',\n",
       " 'lib',\n",
       " 'lreshape',\n",
       " 'match',\n",
       " 'melt',\n",
       " 'merge',\n",
       " 'merge_asof',\n",
       " 'merge_ordered',\n",
       " 'notna',\n",
       " 'notnull',\n",
       " 'np',\n",
       " 'offsets',\n",
       " 'option_context',\n",
       " 'options',\n",
       " 'ordered_merge',\n",
       " 'pandas',\n",
       " 'parser',\n",
       " 'period_range',\n",
       " 'pivot',\n",
       " 'pivot_table',\n",
       " 'plot_params',\n",
       " 'plotting',\n",
       " 'pnow',\n",
       " 'qcut',\n",
       " 'read_clipboard',\n",
       " 'read_csv',\n",
       " 'read_excel',\n",
       " 'read_feather',\n",
       " 'read_fwf',\n",
       " 'read_gbq',\n",
       " 'read_hdf',\n",
       " 'read_html',\n",
       " 'read_json',\n",
       " 'read_msgpack',\n",
       " 'read_parquet',\n",
       " 'read_pickle',\n",
       " 'read_sas',\n",
       " 'read_sql',\n",
       " 'read_sql_query',\n",
       " 'read_sql_table',\n",
       " 'read_stata',\n",
       " 'read_table',\n",
       " 'reset_option',\n",
       " 'rolling_apply',\n",
       " 'rolling_corr',\n",
       " 'rolling_count',\n",
       " 'rolling_cov',\n",
       " 'rolling_kurt',\n",
       " 'rolling_max',\n",
       " 'rolling_mean',\n",
       " 'rolling_median',\n",
       " 'rolling_min',\n",
       " 'rolling_quantile',\n",
       " 'rolling_skew',\n",
       " 'rolling_std',\n",
       " 'rolling_sum',\n",
       " 'rolling_var',\n",
       " 'rolling_window',\n",
       " 'scatter_matrix',\n",
       " 'set_eng_float_format',\n",
       " 'set_option',\n",
       " 'show_versions',\n",
       " 'stats',\n",
       " 'test',\n",
       " 'testing',\n",
       " 'timedelta_range',\n",
       " 'to_datetime',\n",
       " 'to_msgpack',\n",
       " 'to_numeric',\n",
       " 'to_pickle',\n",
       " 'to_timedelta',\n",
       " 'tools',\n",
       " 'tseries',\n",
       " 'tslib',\n",
       " 'unique',\n",
       " 'util',\n",
       " 'value_counts',\n",
       " 'wide_to_long']"
      ]
     },
     "execution_count": 10,
     "metadata": {},
     "output_type": "execute_result"
    }
   ],
   "source": [
    "dir(pd)"
   ]
  },
  {
   "cell_type": "markdown",
   "metadata": {},
   "source": [
    "## Écrire des paquets\n",
    "\n",
    "Les paquets (*package*) sont des bibliothèques consitués de multiple modules et fichiers. Ils sont stockés dans des deossiers qui doivent suivre une exigence imporante : tout paquet est un dossier qui **doit** avoir un fichier d'initalisation appelé `__init__.py`.\n",
    "\n",
    "Le fichier lui-même peut être complètement vide, mais il sera importé et exécuté lors de l'invocation de la fonction  `import`. Cela permet de définir des règles ou des initialisations à effectuer lors de la première importation du paquet.\n",
    "\n",
    "Que se passe-t-il si une bibliothèque est importé à multiple reprises ? Python garde la trace de ces imports, et n'initialise une paquet qu'une seul fois.\n",
    "\n",
    "Parmi les aspects utiles du fichier `__init__.py` est qu'il permet de limiter ce qui est effectivement importer lors de l'utilisation de la commande `from package import *`."
   ]
  },
  {
   "cell_type": "code",
   "execution_count": 11,
   "metadata": {},
   "outputs": [],
   "source": [
    "#__init__.py\n",
    "\n",
    "__all__ = [\"class1\", \"class2\"]"
   ]
  },
  {
   "cell_type": "markdown",
   "metadata": {},
   "source": [
    "Cela impliquera que `from package import *` n'importera en fait que `class1` et `class2`\n",
    "\n",
    "Les deux sections suivant sont optionnels, dans la mesure où, à ce stade de votre pratique de développement, il y a peu de chances que vous ayez à écrire du code de cette sorte ; il peut néanmois se révéler utile de voir des usages de Python un peu plus avancés.\n",
    "\n",
    "## Clôtures (*closures*)\n",
    "\n",
    "Python a une notion de portée de variable (*scope*). Les variables créées à l'intérieur d'une classe ou d'une fonction ne sont disponibles qu'à l'intérieur de cette classe ou fonction. Les variables sont disponibles dans la limite de la **portée** de leur invocation. Pour rendre des variables disponibles dans une fonction, on les fera passer comme arguments (comme vu précédemment).\n",
    "\n",
    "Il est parfois nécessaire de partager un argument avec toutes les fonctions, et parfois il est souhaitable qu'une variable ne soit disponible que pour certaines fonctions spécifiques sans qu'elles soient disponibles par ailleurs. Les fonctions qui permettent cela sont appelée **clôtures**, et les clôtures sont un exemple de *fonctions imbriquées*.\n",
    "\n",
    "Une fonction imbriquée est une fonction définie à l'intérieur d'une autre. Ces fonctions imbriquées ont accès aux variables définie à l'intérieur de la portée créée par la fonction parente."
   ]
  },
  {
   "cell_type": "code",
   "execution_count": 9,
   "metadata": {},
   "outputs": [
    {
     "name": "stdout",
     "output_type": "stream",
     "text": [
      "Message de test\n"
     ]
    }
   ],
   "source": [
    "def transmit_to_space(message):\n",
    "    \"\"\"\n",
    "    This is the enclosing function\n",
    "    \"\"\"\n",
    "    def data_transmitter():\n",
    "        \"\"\"\n",
    "        The nested function\n",
    "        \"\"\"\n",
    "        print(message)\n",
    "    # La fonction parente appelle la fonction imbriquée\n",
    "    data_transmitter()\n",
    "\n",
    "transmit_to_space(\"Message de test\")"
   ]
  },
  {
   "cell_type": "markdown",
   "metadata": {},
   "source": [
    "Rappelons nous que les fonctions sont elles-mêmes des objets, il est donc possible de renvoyer une fonction imbriquée comme valeur de retour."
   ]
  },
  {
   "cell_type": "code",
   "execution_count": 8,
   "metadata": {},
   "outputs": [
    {
     "name": "stdout",
     "output_type": "stream",
     "text": [
      "Vers le soleil !\n"
     ]
    }
   ],
   "source": [
    "def transmit_to_space(message):\n",
    "    \"\"\"\n",
    "    This is the enclosing function\n",
    "    \"\"\"\n",
    "    def data_transmitter():\n",
    "        \"\"\"\n",
    "        The nested function\n",
    "        \"\"\"\n",
    "        print(message)\n",
    "    # Renvoie un objet représentant la fonction imbriquée (notez l'absence de parenthèses)\n",
    "    return data_transmitter\n",
    "\n",
    "msg = transmit_to_space(\"Vers le soleil !\")\n",
    "msg()"
   ]
  },
  {
   "cell_type": "markdown",
   "metadata": {},
   "source": [
    "## Decorateurs\n",
    "\n",
    "Les clôtures peuvent paraître quelque peu ésotériques. Quel est leur raison d'être ?\n",
    "\n",
    "Il faut y réfléchir en terme de modularité du code Python. Parfois, il est utile de pré-traiter des arguments avant qu'une fonction ne s'y attaque. Et plusieurs fonctions différentes peuvent avoir des besoins de pré-traitement (par exemple de validation) communs. Plutôt que de modifier chaque fonction, mieux vaut utiliser une clôture autour de cette fonction et ne renvoyer des données qu'une fois la clôture exécutée.\n",
    "\n",
    "Prenons un exemple classique sur une site Web. Certaines fonctions ne doivent être exécutées que si l'utilisateur a les droits nécessaires. Vérifier cela dans chaque fonction est répétitif.\n",
    "\n",
    "Python fournit une syntaxe qui permet d'envelopper une fonction dans une clôture. Cela est connu sous le nom de _décorateur_ (*decorator*), et prend la forme suivante :\n",
    "\n",
    "    @decorator\n",
    "    def functions(arg):\n",
    "        return True\n",
    "\n",
    "Ceci est équivalent à `function = decorator(function)`, ce qui est similare à la façon dans les clôtures sont structurées dans la section précédente.\n",
    "\n",
    "Un exemple fantaisiste :"
   ]
  },
  {
   "cell_type": "code",
   "execution_count": 14,
   "metadata": {},
   "outputs": [
    {
     "name": "stdout",
     "output_type": "stream",
     "text": [
      "42\n",
      "42\n"
     ]
    }
   ],
   "source": [
    "def repeater(old_function):\n",
    "    \"\"\"\n",
    "    A closure for any function which, passed as `old_function`\n",
    "    returns `new_function`\n",
    "    \"\"\"\n",
    "    def new_function(*args, **kwds):\n",
    "        \"\"\"\n",
    "        A demo function which repeats any function in the outer scope.\n",
    "        \"\"\"\n",
    "        old_function(*args, **kwds)\n",
    "        old_function(*args, **kwds)\n",
    "    return new_function\n",
    "\n",
    "# On utilise `repeater` comme décorateur ainsi\n",
    "@repeater\n",
    "def multiply(num1, num2):\n",
    "    print(num1 * num2)\n",
    "\n",
    "# Et exécution\n",
    "multiply(6,7)"
   ]
  },
  {
   "cell_type": "markdown",
   "metadata": {},
   "source": [
    "Cela permet de modifier les résultats, mais aussi les entrées."
   ]
  },
  {
   "cell_type": "code",
   "execution_count": 10,
   "metadata": {},
   "outputs": [
    {
     "name": "stdout",
     "output_type": "stream",
     "text": [
      "1764\n",
      "36\n"
     ]
    },
    {
     "ename": "TypeError",
     "evalue": "new_function() takes 1 positional argument but 2 were given",
     "output_type": "error",
     "traceback": [
      "\u001b[0;31m---------------------------------------------------------------------------\u001b[0m",
      "\u001b[0;31mTypeError\u001b[0m                                 Traceback (most recent call last)",
      "\u001b[0;32m<ipython-input-10-18e1873fd14f>\u001b[0m in \u001b[0;36m<module>\u001b[0;34m\u001b[0m\n\u001b[1;32m     32\u001b[0m     \u001b[0;32mreturn\u001b[0m \u001b[0mnum1\u001b[0m \u001b[0;34m*\u001b[0m \u001b[0mnum2\u001b[0m\u001b[0;34m\u001b[0m\u001b[0;34m\u001b[0m\u001b[0m\n\u001b[1;32m     33\u001b[0m \u001b[0;34m\u001b[0m\u001b[0m\n\u001b[0;32m---> 34\u001b[0;31m \u001b[0mprint\u001b[0m\u001b[0;34m(\u001b[0m\u001b[0mmultiply\u001b[0m\u001b[0;34m(\u001b[0m\u001b[0;36m6\u001b[0m\u001b[0;34m,\u001b[0m\u001b[0;36m7\u001b[0m\u001b[0;34m)\u001b[0m\u001b[0;34m)\u001b[0m\u001b[0;34m\u001b[0m\u001b[0;34m\u001b[0m\u001b[0m\n\u001b[0m",
      "\u001b[0;31mTypeError\u001b[0m: new_function() takes 1 positional argument but 2 were given"
     ]
    }
   ],
   "source": [
    "def exponent_out(old_function):\n",
    "    \"\"\"\n",
    "    This modification works on any combination of args and kwargs.\n",
    "    \"\"\"\n",
    "    def new_function(*args, **kwargs):\n",
    "        return old_function(*args, **kwargs) ** 2\n",
    "    return new_function\n",
    "\n",
    "def exponent_in(old_function):\n",
    "    \"\"\"\n",
    "    This modification only works if we know we have one argument.\n",
    "    \"\"\"\n",
    "    def new_function(arg):\n",
    "        return old_function(arg ** 2)\n",
    "    return new_function\n",
    "\n",
    "@exponent_out\n",
    "def multiply(num1, num2):\n",
    "    return num1 * num2\n",
    "\n",
    "print(multiply(6,7))\n",
    "\n",
    "@exponent_in\n",
    "def digit(num):\n",
    "    return num\n",
    "\n",
    "print(digit(6))\n",
    "\n",
    "# Générons une erreur\n",
    "@exponent_in\n",
    "def multiply(num1, num2):\n",
    "    return num1 * num2\n",
    "\n",
    "print(multiply(6,7))"
   ]
  },
  {
   "cell_type": "markdown",
   "metadata": {},
   "source": [
    "Les décorateurs permettent de vérifier qu'un argument passe un certain nombre de conditions avant d'exécuter la fonction."
   ]
  },
  {
   "cell_type": "code",
   "execution_count": 16,
   "metadata": {},
   "outputs": [
    {
     "ename": "TypeError",
     "evalue": "exceptions must derive from BaseException",
     "output_type": "error",
     "traceback": [
      "\u001b[1;31m---------------------------------------------------------------------------\u001b[0m",
      "\u001b[1;31mTypeError\u001b[0m                                 Traceback (most recent call last)",
      "\u001b[1;32m<ipython-input-16-45d6c658a65c>\u001b[0m in \u001b[0;36m<module>\u001b[1;34m()\u001b[0m\n\u001b[0;32m     13\u001b[0m     \u001b[0mprint\u001b[0m\u001b[1;33m(\u001b[0m\u001b[0mnum\u001b[0m\u001b[1;33m)\u001b[0m\u001b[1;33m\u001b[0m\u001b[0m\n\u001b[0;32m     14\u001b[0m \u001b[1;33m\u001b[0m\u001b[0m\n\u001b[1;32m---> 15\u001b[1;33m \u001b[0mprint_num\u001b[0m\u001b[1;33m(\u001b[0m\u001b[1;36m0\u001b[0m\u001b[1;33m)\u001b[0m\u001b[1;33m\u001b[0m\u001b[0m\n\u001b[0m",
      "\u001b[1;32m<ipython-input-16-45d6c658a65c>\u001b[0m in \u001b[0;36mnew_function\u001b[1;34m(arg)\u001b[0m\n\u001b[0;32m      5\u001b[0m     \u001b[1;32mdef\u001b[0m \u001b[0mnew_function\u001b[0m\u001b[1;33m(\u001b[0m\u001b[0marg\u001b[0m\u001b[1;33m)\u001b[0m\u001b[1;33m:\u001b[0m\u001b[1;33m\u001b[0m\u001b[0m\n\u001b[0;32m      6\u001b[0m         \u001b[1;32mif\u001b[0m \u001b[0marg\u001b[0m \u001b[1;33m==\u001b[0m \u001b[1;36m0\u001b[0m\u001b[1;33m:\u001b[0m\u001b[1;33m\u001b[0m\u001b[0m\n\u001b[1;32m----> 7\u001b[1;33m             \u001b[1;32mraise\u001b[0m \u001b[1;33m(\u001b[0m\u001b[0mValueError\u001b[0m\u001b[1;33m,\u001b[0m \u001b[1;34m\"Zero Argument\"\u001b[0m\u001b[1;33m)\u001b[0m\u001b[1;33m\u001b[0m\u001b[0m\n\u001b[0m\u001b[0;32m      8\u001b[0m         \u001b[0mold_function\u001b[0m\u001b[1;33m(\u001b[0m\u001b[0marg\u001b[0m\u001b[1;33m)\u001b[0m\u001b[1;33m\u001b[0m\u001b[0m\n\u001b[0;32m      9\u001b[0m     \u001b[1;32mreturn\u001b[0m \u001b[0mnew_function\u001b[0m\u001b[1;33m\u001b[0m\u001b[0m\n",
      "\u001b[1;31mTypeError\u001b[0m: exceptions must derive from BaseException"
     ]
    }
   ],
   "source": [
    "def check_zero(old_function):\n",
    "    \"\"\"\n",
    "    Check the argument passed to a function to ensure it is not zero.\n",
    "    \"\"\"\n",
    "    def new_function(arg):\n",
    "        if arg == 0: \n",
    "            raise (ValueError, \"Argument zéro\")\n",
    "        old_function(arg)\n",
    "    return new_function\n",
    "\n",
    "@check_zero\n",
    "def print_num(num):\n",
    "    print(num)\n",
    "\n",
    "print_num(0)"
   ]
  },
  {
   "cell_type": "markdown",
   "metadata": {},
   "source": [
    "Parfois on peut souhaiter passer de nouveaux arguments à un décorateur pour pouvoir faire quelque chose avant d'exécuter la fonction. Pour cela, il faut des fonctions doublement imbriquées."
   ]
  },
  {
   "cell_type": "code",
   "execution_count": 17,
   "metadata": {},
   "outputs": [
    {
     "data": {
      "text/plain": [
       "15"
      ]
     },
     "execution_count": 17,
     "metadata": {},
     "output_type": "execute_result"
    }
   ],
   "source": [
    "def multiply(multiplier):\n",
    "    \"\"\"\n",
    "    Using the multiplier argument, modify the old function to return\n",
    "    multiplier * old_function\n",
    "    \"\"\"\n",
    "    def multiply_generator(old_function):\n",
    "        def new_function(*args, **kwds):\n",
    "            return multiplier * old_function(*args, **kwds)\n",
    "        return new_function\n",
    "    return multiply_generator\n",
    "\n",
    "@multiply(3)\n",
    "def return_num(num):\n",
    "    return num\n",
    "\n",
    "return_num(5)"
   ]
  },
  {
   "cell_type": "markdown",
   "metadata": {},
   "source": [
    "Et cela conclut cette partie due tutoriel.\n",
    "\n",
    "[(précédent)](02%20-%20-%20-%20Python%20-%20basics.ipynb) | [(index)](00%20-%20-%20-%20Introduction%20-%20to%20-%20Python.ipynb) | [(suivant)](04%20-%20-%20-%20Python%20-%20tools%20-%20for%20-%20data%20-%20analysis.ipynb)"
   ]
  }
 ],
 "metadata": {
  "kernelspec": {
   "display_name": "Python 3",
   "language": "python",
   "name": "python3"
  },
  "language_info": {
   "codemirror_mode": {
    "name": "ipython",
    "version": 3
   },
   "file_extension": ".py",
   "mimetype": "text/x-python",
   "name": "python",
   "nbconvert_exporter": "python",
   "pygments_lexer": "ipython3",
   "version": "3.7.1"
  },
  "latex_envs": {
   "LaTeX_envs_menu_present": true,
   "autocomplete": true,
   "bibliofile": "biblio.bib",
   "cite_by": "apalike",
   "current_citInitial": 1,
   "eqLabelWithNumbers": true,
   "eqNumInitial": 1,
   "hotkeys": {
    "equation": "Ctrl-E",
    "itemize": "Ctrl-I"
   },
   "labels_anchors": false,
   "latex_user_defs": false,
   "report_style_numbering": false,
   "user_envs_cfg": false
  }
 },
 "nbformat": 4,
 "nbformat_minor": 2
}
