{
 "cells": [
  {
   "cell_type": "markdown",
   "metadata": {},
   "source": [
    "[(index)](00%20-%20-%20-%20Introduction%20-%20to%20-%20Python.ipynb) | [(next)](02%20-%20-%20-%20Python%20-%20basics.ipynb)\n",
    "\n",
    "# Installer Python et Jupyter Notebook avec Anaconda\n",
    "\n",
    "<div class=\"alert alert-block alert-warning\">\n",
    "    <b>Objectifs d'apprentissage :</b>\n",
    "    <br>\n",
    "    <ul>\n",
    "        <li>Télécharger et installer Anaconda avec Jupyter Notebook.</li>\n",
    "        <li>Ouvrir un premier document Jupyter Notebook.</li>\n",
    "    </ul>\n",
    "</div>\n",
    "\n",
    "![Introduction à Jupyter](images/jupyter-overview.jpg)\n",
    "\n",
    "Anaconda est un ensemble de paquets de data science populaires pour Python, incluant Jupyter Notebook, un carnet de notes interactif qui permet de créer et partage des documents contenant du code interactif. Ce document lui-même est un Jupyter Notebook.\n",
    "\n",
    "Notre premier objectif est d'installer Anaconda et de créer un carnet de notes pour commencer ce tutoriel. Vous pouvez tester Jupyter dans un navigateur sur [la démo en-ligne de Juypter](https://jupyter.org/try).\n",
    "\n",
    "Pour installer Anaconda et tous les paquets Python sur votre ordintaeur :\n",
    "\n",
    "- Aller sur la [page de téléchargement sur Anaconda.com](https://www.anaconda.com/download/);\n",
    "\n",
    "![Télécharger Anaconda](images/anaconda-1.jpg)\n",
    "\n",
    "- Choisir expressément la **version Python 3.x** pour l'installation. Sélectionner le paquet adapté à votre système d'exploitation (Windows, MacOS, or Linux). Pour Windows, il faut aussi choisir entre 64 et 32 bits. La plupart des ordinateurs prennent en charge le 64 bits, mais si vous n'êtes pas sûr, prenez la version 32 bits.\n",
    "\n",
    "- Une fois le téléchargement terminé, lancer l'installation avec la configuration par défaut.\n",
    "\n",
    "- Vous avez la possibilité de lancer Anaconda ou Jupyter Notebook. Nous allons lancer directement Jupyter Notebook.\n",
    "\n",
    "- La première page qui s'ouvre est une vue répertoire Jupyter Notebook présentant une liste de fichier. Les fichiers Jupyter Notebook ont une extension \".ipynb\"\n",
    "\n",
    "![Vue répertoire Jupyter Notebook](images/jupyter-01.png)\n",
    "\n",
    "- Créer un nouveau carnet en cliquant sur \"Nouveau\" et sélectionner \"Python 3\" comme noyau à utiliser.\n",
    "\n",
    "![Créer un nouveau Jupyter Notebook](images/jupyter-02.png)\n",
    "\n",
    "- Voilà à ce que devrait ressembler un nouveau carnet de notes :\n",
    "\n",
    "![Jupyter Notebook](images/jupyter-04.png)\n",
    "\n",
    "- Vous pouvez avec une introduction à l'interface du carnet de notes via `Aide -> Visite de l'interface utilisateur`, ou apprendre certains des raccourcis claviers via `Aide -> Raccourcis claviers`.\n",
    "\n",
    "![Raccourcis claviers de Jupyter Notebook](images/jupyter-03.png)\n",
    "\n",
    "**Vous êtes maintenant prêts à commencer le tutoriel.**\n",
    "\n",
    "[(index)](00%20-%20-%20-%20Introduction%20-%20to%20-%20Python.ipynb) | [(next)](02%20-%20-%20-%20Python%20-%20basics.ipynb)"
   ]
  }
 ],
 "metadata": {
  "kernelspec": {
   "display_name": "Python 3",
   "language": "python",
   "name": "python3"
  },
  "language_info": {
   "codemirror_mode": {
    "name": "ipython",
    "version": 3
   },
   "file_extension": ".py",
   "mimetype": "text/x-python",
   "name": "python",
   "nbconvert_exporter": "python",
   "pygments_lexer": "ipython3",
   "version": "3.7.1"
  },
  "latex_envs": {
   "LaTeX_envs_menu_present": true,
   "autocomplete": true,
   "bibliofile": "biblio.bib",
   "cite_by": "apalike",
   "current_citInitial": 1,
   "eqLabelWithNumbers": true,
   "eqNumInitial": 1,
   "hotkeys": {
    "equation": "Ctrl-E",
    "itemize": "Ctrl-I"
   },
   "labels_anchors": false,
   "latex_user_defs": false,
   "report_style_numbering": false,
   "user_envs_cfg": false
  }
 },
 "nbformat": 4,
 "nbformat_minor": 2
}
