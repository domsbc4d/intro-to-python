{
 "cells": [
  {
   "cell_type": "markdown",
   "metadata": {},
   "source": [
    "[(précédent)](01%20-%20Installing%20Python%20and%20Jupyter%20Notebook%20with%20Anaconda.ipynb) | [(index)](00%20-%20Introduction%20to%20Python.ipynb) | [(suivant)](03%20-%20Python%20intermediate.ipynb)\n",
    "\n",
    "# Les bases de Python\n",
    "<div class=\"alert alert-block alert-warning\">\n",
    "    <b>Objectifs d'apprentissage :</b>\n",
    "    <br>\n",
    "    <ul>\n",
    "        <li>Écrire une première ligne de code.</li>\n",
    "        <li>Apprendre et mettre en application les variables, les types et les opérateurs de base de Python.</li>\n",
    "        <li>Utiliser les variables, les types et opérateurs dans des boucles et des conditions pour réaliser des tâches simples.</li>\n",
    "        <li>Capturer et répondre efficacement aux exceptions.</li>\n",
    "        <li>Utiliser les ensembles (set) pour extraire les données uniques de listes.</li>\n",
    "    </ul>\n",
    "</div>\n",
    "\n",
    "Python est un langage interprété avec une syntaxe très simple. Comme le veut la coutume lorsqu'on apprend un nouveau langage, nous allons afficher \"Bonjour le monde !\".\n",
    "\n",
    "Ouvrons un nouveau carnet de de notes :\n",
    "\n",
    "![Jupyter Notebook](images/jupyter-04.png)\n",
    "\n",
    "Deux choses à noter :\n",
    "\n",
    "- le menu déroulant `code`\n",
    "- La disposition de la boîte d'entrée de texte en dessous, commençant par `In []:`\n",
    "\n",
    "Ceci indique que ce bloc va être utilisé pour entrer du code. On peut à la place l'utiliser pour du texte structuré (comme ce document lui-même) en sélectionnant `markdown` dans le menu déroulant. Ce tutoriel n'enseigne pas l'utilisation de `markdown`, mais vous pouvez en découvrir la syntaxte sur cette [anti-sèche Markdown](https://github.com/adam-p/markdown-here/wiki/Markdown-Cheatsheet).\n",
    "\n",
    "Ce tutoriel est similaire à celui de [Learn Python](https://www.learnpython.org/), mais en faisant tourner les exemples directement sur votre ordinateur.\n",
    "\n",
    "## Bonjour le monde !\n",
    "\n",
    "Commençons par \"Bonjour le monde !\".\n",
    "\n",
    "Taper le texte ci-dessous dans le bloc de code de votre carnet de notes et exécuter la ligne avec la combinaison `Ctrl-Enter` :\n",
    "\n",
    "    print(\"Hello, World!)\n"
   ]
  },
  {
   "cell_type": "code",
   "execution_count": null,
   "metadata": {},
   "outputs": [],
   "source": [
    "print(\"Bonjour le monde !\")"
   ]
  },
  {
   "cell_type": "markdown",
   "metadata": {},
   "source": [
    "Vous venez de lancer votre premier programme ! Jupyter formate et colorise le code automatiquement, en fonction de la synaxe du code. `print`est un mot-clé protégé et est coloré en vert.\n",
    "\n",
    "\n",
    "Cela démontre aussi en quoi Jupyter Notebook est utile : ce carnet peut être traité comme un document que l'on peut sauvergarder avec les résultats du programme insérés. Ce document peut être partagé par email avec quelqu'un d'autre, qui, s'il dispose de Jupyter Notebook, pourra faire tourner le carnet de notes et voir ce que vous avez fait.\n",
    "\n",
    "À partir de maintenant, nous allons simplement suivre le tutoriel de Python et apprendres la syntaxe et les méthodes de programmation.\n",
    "\n",
    "## Indentation\n",
    "\n",
    "Python utilise l'indentation pour indiquer quelles parties du code sont exécutées ensemble. Ces indentations peuvent se faire soit avec des tabulations, soit avec des espaces (en général, quatre par niveau d'indentation), et ma préférence est d'utiliser les tabulations. Ce choix est un sujet fréquent de discussion, mais vous n'avez pas à vous en préoccuper - l'un ou l'autre sont des choix tout à fait valables, mais **n'utilisez en aucun un mélange d'indentations de tabulations et d'espaces.**\n",
    "\n",
    "Dans cet exercice, vous allez affecter une valeur à une variable, vérifier si une condition est vraie, et ensuite, en fonction du résultat, afficher.\n",
    "\n",
    "Tout d'abord, identifiez le symbole `+` dans la barre de menu juste après le symbole `sauvegarder`. Cliquer dessus et vous obtiendrez une nouvelle boîte pour entrer le code suivant. Après l'avoir tapé, pressez `Ctrl-Enter` ou activer le bouton `Exécuter`."
   ]
  },
  {
   "cell_type": "code",
   "execution_count": null,
   "metadata": {},
   "outputs": [],
   "source": [
    "x = 1\n",
    "if x == 1:\n",
    "    # Indenté ... Jupyter Notebook gère l'indentation automatiquement\n",
    "    print(\"x vaut 1\")"
   ]
  },
  {
   "cell_type": "markdown",
   "metadata": {},
   "source": [
    "N'importe quel terme textuel peut être utilisé comme variable, du moment qu'il n'est pas un terme protégé du langage. `x` pourrait par exemple être votre nom à la place. En général, les variables sont nommées de manière aussi descriptives que possible pour que les algorithmes puissent être lus comme un texte (pour faire en sorte que le code soit auto-descriptif).\n",
    "<br>\n",
    "<div class=\"alert alert-block alert-info\">\n",
    "    <b>Syntaxe</b>\n",
    "    <br>\n",
    "    <ul>\n",
    "        <li>Pour affecter une valeur spécifique à une variable, on utilise `=`</li>\n",
    "        <li>Pour tester si une variable à une valeur spécique, on utilse les opérateurs booléens :</li>\n",
    "        <ul>\n",
    "            <li>égal : `==`</li>\n",
    "            <li>non égal : `!=`</li>\n",
    "            <li>plus grand : `>`</li>\n",
    "            <li>plus petit : `<`</li>\n",
    "        </ul>\n",
    "        <li>On peut aussi ajouter des commentaires au code avec le symbole `#`. Toute ligne commençant par `#` n'est pas exécutée. Je trouve personnellement très utile de détailler mes réflexions au fur et à mesure de mon code - cela permet lorsqu'on revient sur ce code ultérieurement, il n'est pas toujours facile de se rappeler pourquoi telle approche a été choisie, ou même ce que le code est supposé accomplir.</li>\n",
    "    </ul>\n",
    "</div>\n",
    "\n",
    "\n",
    "## Variables et Types\n",
    "\n",
    "Python n'a pas de typage statique. Cela signifie qu'il nest pas nécessaire de déclarer les variables avant leur utilisation. Vous pouvez créer de nouvelles variables à n'importe quel moment. Python est aussi \"orienté objet\", ce ui signifie que toute variable est un objet, ce qui se révèlera important au fur et à mesure de vos progrès.\n",
    "\n",
    "Passons en revue les types de variables de base :\n",
    "\n",
    "### Nombres\n",
    "\n",
    "Python prend en charge deux types de nombres : les entiers (`int`egers) et les nombres flottants (`float`). Les entiers sont les entiers naturels (par ex 7), tandis que les nombres flottants sont fractionnels (par ex 7,321). Les entiers peuvent être convertis en flottants et vice-versa, mais en étant conscients de risques associés à ces conversions.\n",
    "\n",
    "Entrez le code suivant :"
   ]
  },
  {
   "cell_type": "code",
   "execution_count": null,
   "metadata": {},
   "outputs": [],
   "source": [
    "myint = 7\n",
    "print(myint)"
   ]
  },
  {
   "cell_type": "code",
   "execution_count": null,
   "metadata": {},
   "outputs": [],
   "source": [
    "myfloat = 7.0\n",
    "print(myfloat)\n",
    "# ou en convertissant notre entier existant\n",
    "myfloat = float(myint)\n",
    "# `float` est un mot-clé protégé et apparaît donc en vert\n",
    "print(myfloat)"
   ]
  },
  {
   "cell_type": "code",
   "execution_count": null,
   "metadata": {},
   "outputs": [],
   "source": [
    "# Maintent, voyons ce qu'il se passe lorsqu'on converti un flottant en entier\n",
    "myint = int(7.3)\n",
    "print(myint)"
   ]
  },
  {
   "cell_type": "markdown",
   "metadata": {},
   "source": [
    "Notez la perte de précision lors de la conversion d'un `float` en `int` ? Soyez toujours prudent avec cette opération - imaginez l'impact que cela pourrait avoir sur les mesures d'une porte qui pourrait se retrouver trop petite pour son cadre.\n",
    "\n",
    "### Chaînes de caractères\n",
    "\n",
    "Les chaînes de charactères (`string`s) sont utilisées pour gérer le texte en Python. Celles-ci peuvent être définies avec des apostrophes (`'`) ou des guillements (`\"`). Je vais utiliser les guillements doubles puisque les apostrophes sont souvent utilisées dans du texte.\n",
    "\n",
    "Essayez ces exemples :"
   ]
  },
  {
   "cell_type": "code",
   "execution_count": null,
   "metadata": {},
   "outputs": [],
   "source": [
    "mystring = \"Bonjour le monde !\"\n",
    "print(mystring)\n",
    "# avec une apostrophe dans le texte\n",
    "mystring = \"L'apostrophe dans ce texte\"\n",
    "print(mystring)"
   ]
  },
  {
   "cell_type": "markdown",
   "metadata": {},
   "source": [
    "On peut utiliser un ensemble d'opérateurs simples sur les variables, ou affecter simultanément plusieurs variables."
   ]
  },
  {
   "cell_type": "code",
   "execution_count": null,
   "metadata": {},
   "outputs": [],
   "source": [
    "one = 1\n",
    "two = 2\n",
    "three = one + two\n",
    "print(three)\n",
    "\n",
    "hello = \"Bonjour\"\n",
    "world = \"le monde !\"\n",
    "helloworld = hello + \" \" + world\n",
    "print(helloworld)\n",
    "\n",
    "a, b = 3, 4\n",
    "print(a, b)"
   ]
  },
  {
   "cell_type": "markdown",
   "metadata": {},
   "source": [
    "Notez cependant que mixer des variables de types différents ne marche pas :"
   ]
  },
  {
   "cell_type": "code",
   "execution_count": null,
   "metadata": {},
   "outputs": [],
   "source": [
    "print(one + two + hello)"
   ]
  },
  {
   "cell_type": "markdown",
   "metadata": {},
   "source": [
    "Python émet une erreur pour ce gendre d'erreur, et le message d'erreur donne autant de détails que possible sur ce qui s'est passé. Cela se révèle extrêmement utile lorsqu'on débuggue son code.\n",
    "\n",
    "Dans le cas présent, le message indique : `TypeError: unsupported operand type(s) for +: 'int' and 'str'`\n",
    "\n",
    "Et dans ce contexte, il est clair qu'il s'agit de la combinaison des deux entiers et d'une chaîne.\n",
    "\n",
    "Il est aussi possible de combiner des chaînes de caractères avec des emplacements de substitution pour des variables :\n",
    "<br>\n",
    "<div class=\"alert alert-block alert-info\">\n",
    "    <b>Syntaxe</b>\n",
    "    <br>\n",
    "    <ul>\n",
    "        <li>Ajouter des variables à une chaîne avec `format`, par exemple `\"Variable {}\".format(x)` remplace `{}` par la valeur de la variable `x`</li>\n",
    "        <li>Les nombres flottants peuvent être problématiques (par exemple un nombre avec 30 chiffres après la virgule) - ils peuvent être formattés avec `\"Variable {:10.4f}\".format(x)` où `10` is l'espace alloué au nombre flottant (utile par exemple pour aligner une colonne de nombres - si ce nombre est omis, tous les chiffres seront inclus) et `.4f` est le nombre de chiffres après la virgule. À adapter selon vos besoins.</li>\n",
    "    </ul>\n",
    "</div>"
   ]
  },
  {
   "cell_type": "code",
   "execution_count": null,
   "metadata": {},
   "outputs": [],
   "source": [
    "variable = 1/3 * 100\n",
    "print(\"Variable non formattée : {}%\".format(variable))\n",
    "print(\"Variable formattée : {:.3f}%\".format(variable))\n",
    "print(\"Variable alignée sur les espaces : {:10.1f}%\".format(variable))"
   ]
  },
  {
   "cell_type": "markdown",
   "metadata": {},
   "source": [
    "### Listes\n",
    "\n",
    "Les `List`es sont des listes ordonnées de tout type. Elles peuvent combiner autant de variables que souhaité, et peuvent même combiner des variables de types différents. En général, sauf raison spécifique, les listes sont utilisées pour contenir des variables d'un seul type.\n",
    "\n",
    "Vous pouvez itérer sur les éléments d'une liste.\n",
    "\n",
    "Une liste est placée entre crochets : `[]`"
   ]
  },
  {
   "cell_type": "code",
   "execution_count": null,
   "metadata": {},
   "outputs": [],
   "source": [
    "mylist = []\n",
    "mylist.append(1)\n",
    "mylist.append(2)\n",
    "mylist.append(3)\n",
    "# Chaque élément d'une liste peut être appelé directement. \n",
    "# La première entrée dans une liste Python commence à l'indice 0\n",
    "print(mylist[0])\n",
    "# Le dernier élément d'une liste Python peut être récupéré à l'indice -1\n",
    "# Cela est utile lorsqu'on ne sait pas a priori la longeur d'une liste.\n",
    "print(mylist[-1])\n",
    "# On peut aussi accéder à une tranche d'une liste comme suit\n",
    "print(mylist[1:3])\n",
    "\n",
    "# On peut parcourir une liste avec `for`.\n",
    "# `x` est une nouvelle variable qui prend dans l'ordre la valeur de chaque élément de la liste \n",
    "for x in mylist:\n",
    "    print(x)"
   ]
  },
  {
   "cell_type": "markdown",
   "metadata": {},
   "source": [
    "Si vous essayez d'accéder un élément qui n'existe pas dans la liste, une erreur sera émise."
   ]
  },
  {
   "cell_type": "code",
   "execution_count": null,
   "metadata": {},
   "outputs": [],
   "source": [
    "print(mylist[10])"
   ]
  },
  {
   "cell_type": "markdown",
   "metadata": {},
   "source": [
    "Assemblons maintenant un exemple plus complexe. Tout d'abord, quelques nouveaux éléments syntactiques :\n",
    "<br>\n",
    "<div class=\"alert alert-block alert-info\">\n",
    "    <b>Syntaxe</b>\n",
    "    <br>\n",
    "    <ul>\n",
    "        <li>`isinstance` permet de vérifier le type d'une variable ; par exemple, `isinstance(x, float)` sera `True` si `x` est un nombre flottant (`float`)</li>\n",
    "    <li>Nous avons déja vu `for`- on peut aussi obtenir l'indice des éléments de la liste en utilisant le mot-clé `enumerate`, par exemple `for count, x in enumerate(mylist)` donnera l'indice pour chaque élement de la liste</li>\n",
    "    <li>Trier la liste par ordre numérique ou alphabétique avec `sort`</li>\n",
    "    <li>Le nombre d'éléments d'une liste est simplement obtenu avec `len(list)`</li>\n",
    "    <li>Pour déterminer le nombre de fois qu'une valeur particulière apparaît dans une liste, on peut utiliser `list.count(x)` (où `x` est la variable contenant la valeur ciblée)</li>\n",
    "</div>\n",
    "\n",
    "Essayez par vous-même."
   ]
  },
  {
   "cell_type": "code",
   "execution_count": null,
   "metadata": {},
   "outputs": [],
   "source": [
    "# Imaginons que nous avons une liste de noms non triée et qui pour une quelconque raison contient aussi des nombres aléatoires\n",
    "# Pour cet exercice, nous voulant afficher la liste de noms triée par ordre alphabétique sans les nombres\n",
    "# Ceci n'est pas le code optimal, mais il illustre un certain nombre de techniques.\n",
    "names = [\"John\", 3234, 2342, 3323, \"Eric\", 234, \"Jessica\", 734978234, \"Lois\", 2384]\n",
    "print(\"Nombre de noms dans la liste: {}\".format(len(names)))\n",
    "# Tout d'abord, supprimons les nombres\n",
    "new_names = []\n",
    "for n in names:\n",
    "    if isinstance(n, str):\n",
    "        # Est que ce que n est une chaîne (string)\n",
    "        # Notez aussi la double indentation\n",
    "        new_names.append(n)\n",
    "# Maintenant que notre nouvelle liste ne contient que des noms, trions la\n",
    "new_names.sort()\n",
    "print(\"Nombre de noms dans la liste nettoyée : {}\".format(len(new_names)))\n",
    "# Maintenant, affichons les\n",
    "for i, n in enumerate(new_names):\n",
    "    # Utilisons à la fois i et n dans une chaîne formattée\n",
    "    # On ajoute 1 puisque les listes commencent à 0\n",
    "    print(\"{}. {}\".format(i+1, n))"
   ]
  },
  {
   "cell_type": "markdown",
   "metadata": {},
   "source": [
    "### Dictionnaires\n",
    "\n",
    "Les dictionnaires (`dictionary`) sont un des types de données les plus souples et les plus utiles en Python. Ils sont similaires à des tableaux, mais constitutés de paires clé:valeur. Chaque valeur stockée dans un dictionnaire est accessible par sa clé, et la valeur peut être n'importe que type d'objet (chaîne, nombre, liste, etc.).\n",
    "\n",
    "Ceci permet de créer des structures de données. Les dictionnaires utilisent `{}`."
   ]
  },
  {
   "cell_type": "code",
   "execution_count": null,
   "metadata": {},
   "outputs": [],
   "source": [
    "phonebook = {}\n",
    "phonebook[\"John\"] = {\"Tel\": \"012 794 794\",\n",
    "                     \"Email\": \"john@email.com\"}\n",
    "phonebook[\"Jill\"] = {\"Tel\": \"012 345 345\",\n",
    "                     \"Email\": \"jill@email.com\"}\n",
    "phonebook[\"Joss\"] = {\"Tel\": \"012 321 321\",\n",
    "                     \"Email\": \"joss@email.com\"}\n",
    "print(phonebook)"
   ]
  },
  {
   "cell_type": "markdown",
   "metadata": {},
   "source": [
    "On peut aussi imbriquer les dictionnaires et les listes. Le code ci-dessus illustre comment ajouter des entrées à un dictionnaire existant, ou créer un dictionnaire avec ses entrées.\n",
    "\n",
    "On peut itérer sur les entrées d'un dictionnaire comme pour une liste, en utilisant la méthode `.items()`. En Python 3, les dictionnaires conservent l'ordre des données dans lequel celles-ci ont été ajoutées (ce n'est pas le cas dans les versions antérieurs de Python)."
   ]
  },
  {
   "cell_type": "code",
   "execution_count": null,
   "metadata": {},
   "outputs": [],
   "source": [
    "for name, record in phonebook.items():\n",
    "    print(\"Le numéro de téléphone de {} est {}, et leur email est  {}\".format(name, record[\"Tel\"], record[\"Email\"]))"
   ]
  },
  {
   "cell_type": "markdown",
   "metadata": {},
   "source": [
    "On peut ajouter de nouelles entrées comme indiqué ci-dessus, et pour supprimer une entrée, on utilise `del` ou `pop`, avec des effets différents."
   ]
  },
  {
   "cell_type": "code",
   "execution_count": null,
   "metadata": {},
   "outputs": [],
   "source": [
    "# Tout d'abord`del`\n",
    "del phonebook[\"John\"]\n",
    "for name, record in phonebook.items():\n",
    "    print(\"Le numéro de téléphone de {} est {}, et leur email est  {}\".format(name, record[\"Tel\"], record[\"Email\"]))\n",
    "\n",
    "# pop renvoie la valeur, et la supprime\n",
    "jill_record = phonebook.pop(\"Jill\")\n",
    "print(jill_record)\n",
    "for name, record in phonebook.items():\n",
    "    # Seul Joss reste\n",
    "    print(\"Le numéro de téléphone de {} est {}, et leur email est  {}\".format(name, record[\"Tel\"], record[\"Email\"]))\n",
    "\n",
    "# Supprimer une entrée qui n'existe pas dans le dictionnaire génrère une erreur\n",
    "del phonebook[\"John\"] "
   ]
  },
  {
   "cell_type": "markdown",
   "metadata": {},
   "source": [
    "Il est utile de prendre l'habitude de vérifier que les variables ont les caractéristiques attendues avant de les utiliser. Il est possible de vérifier qu'un dictionnaire à une entrée donnée et de renvoyer une valeur par défaut s'il ne l'a pas.\n",
    "\n",
    "Pour cela, on utilise la méthode `.get(\"key\", default)`. *Default* peut être ce que l'on veut, y compris une autre variable, ou bien `True` ou `False`. Si vous omettez *default* (`.get(\"key\")`), le résultat sera automatiquement équivalent à `False` s'il n'y a pas d'entrée correspondante."
   ]
  },
  {
   "cell_type": "code",
   "execution_count": null,
   "metadata": {},
   "outputs": [],
   "source": [
    "# False et True sont des mots clés de Python qui permettent de vérifier des conditions\n",
    "jill_record = phonebook.get(\"Jill\", False)\n",
    "if jill_record: # donc s'il y a une entrée correspondante à l'étape précédente\n",
    "    print(\"Le numéro de téléphone de Jill est {}, et leur email est {}\".format(jill_record[\"Tel\"], jill_record[\"Email\"]))\n",
    "else: # l'alternative si `if` est faux (False)\n",
    "    print(\"Aucune entrée trouvée.\")"
   ]
  },
  {
   "cell_type": "markdown",
   "metadata": {},
   "source": [
    "## Opérateurs de base\n",
    "\n",
    "Les opérateurs sont les différents symboles algébriques (tels que `+`, `-`, `*`, `/`, `%`, etc.). Une fois que l'on connat leur syntaxe, la programmation devient esstentiellement mathématique.\n",
    "\n",
    "### Opérateurs arithmétiques\n",
    "\n",
    "Sans surprise, les opérateurs mathématiques peuvent être utilisés avec les deux types de nombres (entiers et à virgule)."
   ]
  },
  {
   "cell_type": "code",
   "execution_count": null,
   "metadata": {},
   "outputs": [],
   "source": [
    "number = 1 +2 * 3 / 4.0\n",
    "# Essayez de prédire quelle est la réponse. Est-ce que Python suit les conventions d'ordre d'exécution des opérations ?\n",
    "print(number)\n",
    "\n",
    "# Le modulo (%) renvoie le reste entier d'une division\n",
    "remainder = 11 % 3\n",
    "print(remainder)\n",
    "\n",
    "# Deux signes de multiplications est équivalent à une opération puissance\n",
    "squared = 7 ** 2\n",
    "print(squared)\n",
    "cubed = 2 ** 3\n",
    "print(cubed)"
   ]
  },
  {
   "cell_type": "markdown",
   "metadata": {},
   "source": [
    "### Opérateurs de liste"
   ]
  },
  {
   "cell_type": "code",
   "execution_count": null,
   "metadata": {},
   "outputs": [],
   "source": [
    "even_numbers = [2, 4, 6, 8]\n",
    "odd_numbers = [1, 3, 5, 7]\n",
    "all_numbers = odd_numbers + even_numbers\n",
    "# Que va être le résultat selon vous ?\n",
    "print(all_numbers)\n",
    "\n",
    "# On peut aussi répéter une suite de listes\n",
    "print([1, 2 , 3] * 3)"
   ]
  },
  {
   "cell_type": "markdown",
   "metadata": {},
   "source": [
    "Assemblons tout cela dans un petit projet."
   ]
  },
  {
   "cell_type": "code",
   "execution_count": null,
   "metadata": {},
   "outputs": [],
   "source": [
    "x = object() # Un objet Python générique\n",
    "y = object()\n",
    "\n",
    "# Modifiez ce code pour vous assurez que x_list and y_list ont chacune 10 répétitions de l'objet correspondant\n",
    "# et concaténez les dans concat_list\n",
    "x_list = [x]\n",
    "y_list = [y]\n",
    "concat_list = []\n",
    "\n",
    "print(\"x_list contient {} objets\".format(len(x_list)))\n",
    "print(\"y_list contient {} objets\".format(len(y_list)))\n",
    "print(\"concat_list contient {} objets\".format(len(concat_list)))\n",
    "\n",
    "# Test your lists\n",
    "if x_list.count(x) == 10 and y_list.count(y) == 10:\n",
    "    print(\"On y est presque...\")\n",
    "if concat_list.count(x) == 10 and concat_list.count(y) == 10:\n",
    "    print(\"Parfait!\")"
   ]
  },
  {
   "cell_type": "markdown",
   "metadata": {},
   "source": [
    "### Opérateurs de chaînes\n",
    "\n",
    "Les opérateurs sur les chaînes permettent de faire un nombre impressionant de choses."
   ]
  },
  {
   "cell_type": "code",
   "execution_count": null,
   "metadata": {},
   "outputs": [],
   "source": [
    "# Nous avons déjà vu la concaténation de chaînes\n",
    "helloworld = \"Bonjour\" + \" \" + \"le monde !\"\n",
    "print(helloworld)\n",
    "\n",
    "# La multiplication permet de répéter une chaîne\n",
    "manyhellos = \"Bonjour \" * 10\n",
    "print(manyhellos)\n",
    "\n",
    "# Mais toutes les opérations ne sont pas applicables aux chaînes de caractères\n",
    "nohellos = \"Bonjour \" / 10\n",
    "print(nohellos)"
   ]
  },
  {
   "cell_type": "markdown",
   "metadata": {},
   "source": [
    "Il est utile de garder en tête que les chaînes de caractères sont des *listes* de caractères. Cela implique qu'il est possible d'exécuter un certain nombre d'opérations des listes sur les chaînes de caractères. Ainsi que certaines opérations supplémentaires.\n",
    "<br>\n",
    "<div class=\"alert alert-block alert-info\">\n",
    "    <b>Syntaxe</b>\n",
    "    <br>\n",
    "    <ul>\n",
    "        <li>Obtenir l'indce de la première occurence d'une lettre donnée avec `string.index(\"l\")` où `l` est la lettre recherchée</li>\n",
    "        <li>Comme pour les listes, compter le nombre d'occurences d'une lettre donnée avec `string.count(\"l\")`</li>\n",
    "        <li>Obtenir des tranches d'une chaine avec `string[début:fin]`, par ex `string[3:7]`. Si la taille de la chaîne est inconnue, rappelez vous qu'il est possible d'utiliser des nombres négatifs pour compter depuis la fin, par exemple `string[:-3]` permet d'obtenir une tranche du début de la chaîne jusqu'au troisième avant la fin</li>\n",
    "        <li>Il est aussi possible de spécifier un pas de parcours de la chaîne avec `string[start:stop:step]`, par ex. `string[2:6:2]` saute un caractère entre les caractères 2 et 5 (6 étant la limite)</li>\n",
    "        <li>On peut utiliser un pas de progression négatif pour changer l'ordre de lecture des caractères, par ex `string[::-1]`</li>\n",
    "        <li>On peut changer la casse d'une chaîne en lettres capitales ou minuscules avec `string.upper()` et `string.lower()`</li>\n",
    "        <li>Déterminer si une chaîne commence ou finit avec une sous-chaîne donnée, via : :</li>\n",
    "        <ul>\n",
    "            <li>`string.startswith(substring)` qui renvoie `True` ou `False`</li>\n",
    "            <li>`string.endswith(substring)` qui renvoie `True` ou `False`</li>\n",
    "        </ul>\n",
    "        <li>Utiliser `in` pour déterminer si une chaîne contient une sous-chaîne - ainsi`substring in string` renverra `True` ou `False`</li>\n",
    "        <li>Découper une chaîne en une véritable liste de caractères avec `.split(s)` où `s` est le caractère utilisé pour découper, par example `s = \",\"` ou `s = \" \"`. Cela peut se révéler utile par exemple pour découper un texte contenant des données numériques.</li>\n",
    "    </ul>\n",
    "</div>"
   ]
  },
  {
   "cell_type": "code",
   "execution_count": null,
   "metadata": {},
   "outputs": [],
   "source": [
    "a_string = \"Bonjour le monde !\"\n",
    "print(\"Longueur de la chaîne: {}\".format(len(a_string)))\n",
    "# Il est possible d'obtenir l'indice de la première occurence d'une lettre donnée\n",
    "# Rappelez vous que les listes Pythons démarrent à l'indice 0 ; la première letter est donc à l'indice 0\n",
    "print(\"Indice du premier 'o': {}\".format(a_string.index(\"o\")))\n",
    "print(\"Nombre de  'o': {}\".format(a_string.count(\"o\")))\n",
    "print(\"Tranche entre le deuxième et cinquième caractère: {}\".format(a_string[2:6]))\n",
    "print(\"Sauter entre le 3ème et l'avant-dernier caractère : {}\".format(a_string[3:-2:2]))\n",
    "print(\"Inverser le texte : {}\".format(a_string[::-1]))\n",
    "print(\"Commence avec 'Bonjour' : {}\".format(a_string.startswith(\"Bonjour\")))\n",
    "print(\"Finit avec 'Bonjour': {}\".format(a_string.endswith(\"Bonjour\")))\n",
    "print(\"Contient 'Au revoir': {}\".format(\"Au revoir\" in a_string))\n",
    "print(\"Découper la chaîne : {}\".format(a_string.split(\" \")))"
   ]
  },
  {
   "cell_type": "markdown",
   "metadata": {},
   "source": [
    "## Conditions\n",
    "\n",
    "Dans la section concernant l'[indentation](#Indentation), le mot-clef `if` a été introduit ainsi que les différents opérateurs booléeans permettant de comparer des variables entre elles.\n",
    "\n",
    "Cette liste doit être complétée par un nouvel ensemble d'opérateurs de comparaisons : `and`, `or` et `in`."
   ]
  },
  {
   "cell_type": "code",
   "execution_count": null,
   "metadata": {},
   "outputs": [],
   "source": [
    "# Tests booléens simples\n",
    "x = 2\n",
    "print(x == 2)\n",
    "print(x == 3)\n",
    "print(x < 3)\n",
    "\n",
    "# Utiliser `and` (et)\n",
    "name = \"John\"\n",
    "print(name == \"John\" and x == 2)\n",
    "\n",
    "# Utiliser `or` (ou)\n",
    "print(name == \"John\" or name == \"Jill\")\n",
    "\n",
    "# Utiliser`in` (dans) sur les listes\n",
    "print(name in [\"John\", \"Jill\", \"Jess\"])"
   ]
  },
  {
   "cell_type": "markdown",
   "metadata": {},
   "source": [
    "Ceux-ci permettent de créer des comparaisons plus complexe lorsqu'on utilise `if`. On peut utiliser une série de comparaison avec `if`, `elif` et `else`.\n",
    "\n",
    "Rappelez vous que le code doit être indenté correctement sous peine d'obtenir des comportements inattendus."
   ]
  },
  {
   "cell_type": "code",
   "execution_count": null,
   "metadata": {},
   "outputs": [],
   "source": [
    "# Résultats inattendus\n",
    "x = 2\n",
    "if x > 2:\n",
    "    print(\"Testons x\")\n",
    "print(\"x > 2\")\n",
    "# Format correct\n",
    "if x == 2:\n",
    "    print(\"x == 2\")"
   ]
  },
  {
   "cell_type": "code",
   "execution_count": null,
   "metadata": {},
   "outputs": [],
   "source": [
    "# Regardons des tests if plus complexes\n",
    "x = 2\n",
    "y = 10\n",
    "if x > 2:\n",
    "    print(\"x > 2\")\n",
    "elif x == 2 and y > 50:\n",
    "    print(\"x == 2 et y > 50\")\n",
    "elif x < 10 or y > 50:\n",
    "    # Attention, on ne sait pas a priori quelle condition était vraie\n",
    "    print(\"x < 10 ou y > 50\")\n",
    "else:\n",
    "    print(\"Rien n'a marché.\")"
   ]
  },
  {
   "cell_type": "markdown",
   "metadata": {},
   "source": [
    "`not` et `is` présent deux cas supplémentaires.\n",
    "<br>\n",
    "<div class=\"alert alert-block alert-info\">\n",
    "    <b>Syntaxe</b>\n",
    "    <br>\n",
    "    <ul>\n",
    "        <li>`not` est utilisé pour obtenir l'opposé d'un test booléen donnée, par ex `not(False)` renvoie `True`</li>\n",
    "        <li>superficiellement, `is` peut sembler similaire à `==`, mais il détermine si les objets eux-mêmes sont les mêmes, pas si les valeurs qu'ils reflêtent sont égales.</li>\n",
    "    </ul>\n",
    "</div>\n",
    "\n",
    "Une rapide démonstration."
   ]
  },
  {
   "cell_type": "code",
   "execution_count": null,
   "metadata": {},
   "outputs": [],
   "source": [
    "# Utiliser `not`\n",
    "name_list1 = [\"John\", \"Jill\"]\n",
    "name_list2 = [\"John\", \"Jill\"]\n",
    "print(not(name_list1 == name_list2))\n",
    "\n",
    "# Utiliser `is`\n",
    "name2 = \"John\"\n",
    "print(name_list1 == name_list2)\n",
    "print(name_list1 is name_list2)"
   ]
  },
  {
   "cell_type": "markdown",
   "metadata": {},
   "source": [
    "## Boucles\n",
    "\n",
    "Les boucles itèrent sur une séquence donnée - le niveau d'indentation détermine ce qui est dans ou hors de la boucle, il est donc critique de s'assurer qu'il est correct sous peine de résultats inattendus.\n",
    "\n",
    "Il y a deux types de boucles en Python :\n",
    "<br>\n",
    "<div class=\"alert alert-block alert-info\">\n",
    "    <b>Syntax</b>\n",
    "    <br>\n",
    "    <ul>\n",
    "        <li>Les boucles `for` qui itèrent sur les éléments d'une liste. Celles-ci viennent avec de nouveaux éléments de syntaxe :</li>\n",
    "        <ul>\n",
    "            <li>Dans la section sur les [listes](#Lists), nous avons vu `enumerate` qui permet de compter les itéarations de boucle</li>\n",
    "            <li>`range` crée une liste d'entiers sur lesquels itérer : `range(start, stop)` crée une liste d'entiers comrpis entre *start* et *stop*, `range(num)` crée une liste de 0 à *num*, et `range(start, stop, step)` crée une liste par incrément de *step*</li>\n",
    "        </ul>\n",
    "        <li>Les boucles `while` qui s'exécutent tant qu'une condition donnée est `True`. `while` vient avec de nouveaux éléments syntactiques :</li>\n",
    "        <ul>\n",
    "            <li>`while` est une expression conditionnelle (il attend un test qui renvoie `True`), ce qui implique qu'on peut utiliser `else` dans une boucle `while` (mais pas dans une boucle `for`)</li>\n",
    "        </ul>\n",
    "    </ul>\n",
    "</div>"
   ]
  },
  {
   "cell_type": "code",
   "execution_count": null,
   "metadata": {},
   "outputs": [],
   "source": [
    "# Boucles for\n",
    "\n",
    "for i, x in enumerate(range(2, 8, 2)):\n",
    "    print(\"{}. Range {}\".format(i+1, x))\n",
    "    \n",
    "# Boucles while\n",
    "count = 0\n",
    "while count < 5:\n",
    "    print(count)\n",
    "    count += 1 # Raccourci de count = count + 1\n",
    "else:\n",
    "    print(\"Fin de la boucle while atteinte\")"
   ]
  },
  {
   "cell_type": "markdown",
   "metadata": {},
   "source": [
    "Prêtez attention à l'indentation de cette boucle `while`. Que se passerait-il si `count += 1` était hors de la boucle ?\n",
    "\n",
    "Comment faire si vous devez quitter la boucle avant sa fin, ou sauter une itération ?\n",
    "<br>\n",
    "<div class=\"alert alert-block alert-info\">\n",
    "    <b>Syntaxe</b>\n",
    "    <br>\n",
    "    <ul>\n",
    "        <li>`break` sort d'une boucle `while` ou `for` immédiatement</li>\n",
    "        <li>`continue` saute l'itération en cours et retourne à l'évaluation de la condition d'exécution</li>\n",
    "    </ul>\n",
    "</div>\n"
   ]
  },
  {
   "cell_type": "code",
   "execution_count": null,
   "metadata": {},
   "outputs": [],
   "source": [
    "# Condtions break et while\n",
    "print(\"Condtions break et while\")\n",
    "count = 0\n",
    "while True:\n",
    "    # Cela pourrait tourner à l'infini, sauf que...\n",
    "    print(count)\n",
    "    count += 1\n",
    "    if count >= 5:\n",
    "        break\n",
    "\n",
    "# Continue\n",
    "print(\"Continue\")\n",
    "for x in range(8):\n",
    "    # Détermine si x est impair\n",
    "    if (x+1) % 2 == 0:\n",
    "        continue\n",
    "    print(x)"
   ]
  },
  {
   "cell_type": "markdown",
   "metadata": {},
   "source": [
    "## Liste en compréhension\n",
    "\n",
    "Une des tâches les plus communes en programmation est de parcourir une liste d'élements, les modifier ou leur appliquer un algorithme et de renvoyer une nouvelle liste.\n",
    "\n",
    "Écrire de longs morceaux de code pour accomplir cela prend du temps et de l'énergie. Les listes en compréhension sont un mécanisme efficace et concis pour le faire.\n",
    "\n",
    "Par exemple, imaginons une phrase dans laquelle nous souhaitions compter la longueur de chaque mot, mais en sautant les articles anglais \"the\" :"
   ]
  },
  {
   "cell_type": "code",
   "execution_count": null,
   "metadata": {},
   "outputs": [],
   "source": [
    "sentence = \"for the song and the sword are birthrights sold to an usurer, but I am the last lone highwayman and I am the last adventurer\"\n",
    "words = sentence.split()\n",
    "word_lengths = []\n",
    "for word in words:\n",
    "      if word != \"the\":\n",
    "          word_lengths.append(len(word))\n",
    "print(word_lengths)\n",
    "\n",
    "# La même chose peut être accomplie avec une liste en compréhension\n",
    "word_lengths = [len(word) for word in sentence.split(\" \") if word != \"the\"]\n",
    "print(word_lengths)"
   ]
  },
  {
   "cell_type": "markdown",
   "metadata": {},
   "source": [
    "## Gestion des exceptions\n",
    "\n",
    "Le reste de cette section du tutoriel se concentre sur une syntaxte et méthodologie plus avancées.\n",
    "\n",
    "Dans [Les bases de Python : les chaînes de caractères](02 - Python basics.ipynb#Strings), nous avons vu comment les instructions pour concaténer une chaîne de caractère avec un entier résulte en un erreur :"
   ]
  },
  {
   "cell_type": "code",
   "execution_count": null,
   "metadata": {},
   "outputs": [],
   "source": [
    "print(1 + \"hello\")"
   ]
  },
  {
   "cell_type": "markdown",
   "metadata": {},
   "source": [
    "En Python, ceci est connu sous le nom d'`exception`. Cette exception spécifique est une `TypeError`. Ces exceptions sont fondamentales en programmation, puisqu'elles permettent de corriger les erreurs de syntaxe, détecter les cas où une mauvaise variable est utilisée, ou lorsque le programme ne s'exécute pas comme prévu.\n",
    "\n",
    "Cependant, une fois votre code en production, des erreurs qui interrompent votre programme crée de la frustration pour l'utilisateur. En général, il n'est pas possible d'exclure des erreurs, et parfois, la seule façon de savoir si une fonction va générer une erreur est d'essayer et de voir ce qu'il en est. \n",
    "\n",
    "Certaines de ces erreurs sont tout à fait prévues. Par exemple, si vous demandez à un utilisateur d'entrer un nombre entier, vous allez vouloir l'empêcher d'entrer du texte. Ou bien, pour des raisons de sécurité, vous pouvez souhaiter empêcher qu'il utilise un champs d'entrée de texte pour y entrer son propre code qui s'exécuterait.\n",
    "\n",
    "Dans ces conditions, ce dont vous avez besoin est d'essayer (*try*) de faire tourner un bout de code, et de capturer les exceptions attendues.\n",
    "<div class=\"alert alert-block alert-info\">\n",
    "    <b>Syntaxe</b>\n",
    "    <br>\n",
    "    <ul>\n",
    "        <li>Essayer et capturer les exceptions avec `try` et `except`</li>\n",
    "        <li>Capturer des erreurs spécifiques (plutôt que n'importe quelle erreur) - cela permet de distinguer les erreurs attendues de celles non prévues, et qui pourraient être sinon cachées par une capture générique.</li>\n",
    "        <li>Enchaîner les exceptions avec par exemple `except (IndexError, TypeError):`. Vous pouvez retrouver les [exceptions les plus communes](https://docs.python.org/3/library/exceptions.html).</li>\n",
    "    </ul>\n",
    "</div>"
   ]
  },
  {
   "cell_type": "code",
   "execution_count": null,
   "metadata": {},
   "outputs": [],
   "source": [
    "# `IndexError` est émis lors qu'on essaye d'accéder à un élément d'une liste à un indice inexistant\n",
    "# Dans cet exemple, nous capturons cette erreur et faisons quelque chose à la place\n",
    "\n",
    "def print_list(l):\n",
    "    \"\"\"\n",
    "    For a given list `l`, of unknown length, try to print out the first\n",
    "    10 items in the list.\n",
    "    \n",
    "    If the list is shorter than 10, fill in the remaining items with `0`.\n",
    "    \"\"\"\n",
    "    for i in range(10):\n",
    "        try:\n",
    "            print(l[i])\n",
    "        except IndexError: \n",
    "            print(0)\n",
    "\n",
    "print_list([1,2,3,4,5,6,7])"
   ]
  },
  {
   "cell_type": "markdown",
   "metadata": {},
   "source": [
    "Vous pouvez aussi délibérément générer une exception avec `raise`. Pour aller plus loin et écrire vos propres types d'exception, considérez [cette explications sur StackOverflow](https://stackoverflow.com/a/26938914)."
   ]
  },
  {
   "cell_type": "code",
   "execution_count": null,
   "metadata": {},
   "outputs": [],
   "source": [
    "def print_zero(zero):\n",
    "    if zero != 0:\n",
    "        raise(ValueError, \"Pas zéro !\")\n",
    "    print(zero)\n",
    "\n",
    "print_zero(10)"
   ]
  },
  {
   "cell_type": "markdown",
   "metadata": {},
   "source": [
    "### Ensembles\n",
    "\n",
    "Les ensembles (*sets*) sont des listes sans éléments dupliqués. Cette contrainte peut être implémentée avec un algorithme de tri ou en utilisant un dictionnaire, mais les ensembles le font de manière plus rapide et plus fle\n",
    "xible."
   ]
  },
  {
   "cell_type": "code",
   "execution_count": null,
   "metadata": {},
   "outputs": [],
   "source": []
  },
  {
   "cell_type": "code",
   "execution_count": null,
   "metadata": {},
   "outputs": [],
   "source": [
    "# Extrait tous les termes uniques de la phrase\n",
    "\n",
    "print(set(\"la pluie est mouillée et mouillée est est la pluie\".split()))"
   ]
  },
  {
   "cell_type": "markdown",
   "metadata": {},
   "source": [
    "<div class=\"alert alert-block alert-info\">\n",
    "    <b>Syntaxe</b>\n",
    "    <br>\n",
    "    <ul>\n",
    "        <li>Créer un ensemble de termes uniques avec `set`</li>\n",
    "        <li>Pour obtenir les éléments communs à deux ensembles, utiliser `set1.intersection(set2)`</li>\n",
    "        <li>Pour obtenir les éléments uniques à un ensemble et un autre, utiliser `set1.symmetric_difference(set2)`</li>\n",
    "        <li>Pour obtenir les membres uniques à un ensemble comparé à un autre, utiliser `set1.difference(set2)`</li>\n",
    "        <li>Pour obtenir tous les membres de deux ensembles, utiliser `set1.union(set2)`</li>\n",
    "    </ul>\n",
    "</div>"
   ]
  },
  {
   "cell_type": "code",
   "execution_count": null,
   "metadata": {},
   "outputs": [],
   "source": [
    "set_one = set([\"Alice\", \"Carol\", \"Dan\", \"Eve\", \"Heidi\"])\n",
    "set_two = set([\"Bob\", \"Dan\", \"Eve\", \"Grace\", \"Heidi\"])\n",
    "\n",
    "# Intersection\n",
    "print(\"Intersection de Set One : {}\".format(set_one.intersection(set_two)))\n",
    "print(\"Interesection de Set Two : {}\".format(set_two.intersection(set_one)))\n",
    "\n",
    "# Différence symétrique\n",
    "print(\"Différénce symétrique pour Set One : {}\".format(set_one.symmetric_difference(set_two)))\n",
    "print(\"Différence symétrique pour Set Two : {}\".format(set_two.symmetric_difference(set_one)))\n",
    "\n",
    "# Différence\n",
    "print(\"Différence Set One : {}\".format(set_one.difference(set_two)))\n",
    "print(\"Différence Set Two: {}\".format(set_two.difference(set_one)))\n",
    "\n",
    "# Union\n",
    "print(\"Union Set One: {}\".format(set_one.union(set_two)))\n",
    "print(\"Union Set Two: {}\".format(set_two.union(set_one)))"
   ]
  },
  {
   "cell_type": "markdown",
   "metadata": {},
   "source": [
    "Et ceci conclut cette section du tutoriel.\n",
    "\n",
    "[(précédent)](01%20-%20Installing%20Python%20and%20Jupyter%20Notebook%20with%20Anaconda.ipynb) | [(index)](00%20-%20-%20-%20Introduction%20-%20to%20-%20Python.ipynb) | [(suivant)](03%20-%20-%20-%20Python%20-%20intermediate.ipynb)"
   ]
  }
 ],
 "metadata": {
  "kernelspec": {
   "display_name": "Python 3",
   "language": "python",
   "name": "python3"
  },
  "language_info": {
   "codemirror_mode": {
    "name": "ipython",
    "version": 3
   },
   "file_extension": ".py",
   "mimetype": "text/x-python",
   "name": "python",
   "nbconvert_exporter": "python",
   "pygments_lexer": "ipython3",
   "version": "3.7.1"
  },
  "latex_envs": {
   "LaTeX_envs_menu_present": true,
   "autocomplete": true,
   "bibliofile": "biblio.bib",
   "cite_by": "apalike",
   "current_citInitial": 1,
   "eqLabelWithNumbers": true,
   "eqNumInitial": 1,
   "hotkeys": {
    "equation": "Ctrl-E",
    "itemize": "Ctrl-I"
   },
   "labels_anchors": false,
   "latex_user_defs": false,
   "report_style_numbering": false,
   "user_envs_cfg": false
  }
 },
 "nbformat": 4,
 "nbformat_minor": 2
}
