{
 "cells": [
  {
   "cell_type": "markdown",
   "metadata": {},
   "source": [
    "[(précédent)](03%20-%20Python%20intermediate.ipynb) | [(index)](00%20-%20Introduction%20to%20ython.ipynb) | [(suivant)](05%20-%20Introduction%20to%20data%20as%20a%20science.ipynb)\n",
    "\n",
    "# Outils Python pour l'analyse de données\n",
    "\n",
    "<div class=\"alert alert-block alert-warning\">\n",
    "    <b>Objectifs d'apprentissages :</b>\n",
    "    <br>\n",
    "    <ul>\n",
    "        <li>Identifier les concepts de raisonnement éthique qui peuvent influence nos analyses et les résultats des données.</li>\n",
    "        <li>Apprendre et mettre en application les méthodes de base des bibliothèques essentielles à l'analyse de données, Numpy, Pandas et Matplotlib.</li>\n",
    "    </ul>\n",
    "</div>\n",
    "\n",
    "Les données sont devenues le langage le plus important de notre époque - elles servent de source à l'intelligence des machine automatisées, à l'analyse prédictive des diagnostiques médicaux. La diminution rapide des coûts et la facilité d'accès aux besoins de base de ces systèmes - données, logiciels, calcul distribué, capteurs - conduisent à l'adoption et la croissance de la prise de décision bâtie sur des données. \n",
    "\n",
    "Comme il devient de plus en plus simple de collecter des données au sujet des individus et des systèmes, différents types de professionnels - qui n'ont jamais été formé sur ces besoins - se débattent avec des capacités insuffisantes pour l'analyse et la gestion de donées, ainsi que les risques éthiques émergeant de la possession et des conséquences de ces données et outils.\n",
    "\n",
    "Avant d'entamer la formation technique, quelques considérations éthiques sur l'utilisation des données.\n",
    "\n",
    "## Éthique\n",
    "\n",
    "Les ordinateurs ne prennent pas de décision. Ils fournissent des résultats dépendant strictement des données fournies en entrée et des algorithmes appliqués pour les analyser. L'assistance que les ordinateurs peuvent fournir pour la prise de décision ne remplace pas la responsibilité humaine.\n",
    "\n",
    "Les données et de les algorithmes utilisées pour justifier des décisions doivent pouvoir être passés en revue. \"L'ordinateur a dit « non »\" n'est pas une justification acceptable.\n",
    "\n",
    "Nos actions en tant que *data scientists* sont destinées à convaincre d'agir ou de penser autrement, sur la simple base de la crédibillité de notre analyse, et informé par les données.\n",
    "\n",
    "Les processus par lesquels nous examinons et expliquons ce que nous considérons comme  des comportements humains bons ou mauvais font partie de l'éthique.\n",
    "\n",
    "<br>\n",
    "<div class=\"well\">\n",
    "<b><i>Cas d'usage</i></b>: _Polygal_ est un gel fait à base de betterave et de pectine de pommes ; utilisé sur un patient sévèrement blessé, il était supposé réduire les  saignements. Pour vérifier cette hypothèse, [Sigmund Rascher](https://en.wikipedia.org/wiki/Sigmund_Rascher) l'utilisa sur des humains blessés par balle ou amputés sans anesthésie.\n",
    "<br><br>\n",
    "Pendant la deuxième Guerre Mondiale, sous la direction d'officiers supérieurs Nazis, de très violentes expériences médicales furent pratiquées sur des prisonniers de guerre et des civils considérés comme sous-humains par le régime nazi. Après la guerre, 20 médecins furent jugés pour crimes de guerre et crimes contre l'humanité lors du [procès des médécins](https://en.wikipedia.org/wiki/Doctors%27_trial) tenu à Nuremberg de 1946 à 1949.\n",
    "<br><br>\n",
    "En 1947 <a href=\"https://en.wikipedia.org/wiki/Kurt_Blome\">Kurt Blome</a> - le chef adjoint de la santé du 3ème Reich, un scientifique nazi de haut rang - fut acquitté de crimes de guerre sur intervention musclée des États-Unis. Dans les deux mois suivants, l'armée américaine le debriefa pour apprendre tout ce qu'il savait sur les armes biologiques.\n",
    "<br><br>\n",
    "<i>Pensez vous que les État-Unis ont eu raison ou tort d'offrir à Blome l'immunité en échange de ses connaissances ?</i>\n",
    "<br><br>\n",
    "Nombre des expériences menées par les Nazis soulèvent des dilemmes éthiques, par exemple : l'immersion de prisonniers dans de l'eau glaciale pour observer le résultat et tester des techniques de sauvetage d'hypothermie ; des expérences de pression de haute altitude et de décompression ; des tests de sulfanilamide pour le traitement de gangrènes et autres infections bactériennes.\n",
    "<br><br>\n",
    "<i>Pensez vous qu'il serait acceptable ou pas d'utiliser ces données dans vos travaux de recherche et d'analyse ?</i>\n",
    "<br><br>\n",
    "    <a href=\"http://www.loyno.edu/~folse/ethics.html\">Pour en savoir plus</a>.\n",
    "</div>\n",
    "\n",
    "L'éthique fournit un cadre théorique pour décrire le monde non pas tel qu'il est, mais tel qu'il *devrait* ou *ne devrait pas* être. Cela permet de décrire un résultat idéal, et de consider tout ce que l'on connaît ou ne connaît pas qui puisse empêcher ou détourner le résultat désiré.\n",
    "impede or confound our desired result.\n",
    "\n",
    "<br>\n",
    "<div class=\"well\">\n",
    "<b><i>Cas d'usage</i></b>: Un homme nigérien voyage aux États-Unis. Après l'une des sessions, il va aux toilettes pour se laver les mains. Le distributeur automatique de savon ne reconnaît pas ses mains sous le détecteur. Un américan blanc le voit perdu et place ses propres mains sous l'appreil. Celui distribue due savon. Le Nigérien essaye à nouveau, mais l'appareil l'ignore à nouveau.\n",
    "<br><br>\n",
    "<i>Comment une telle chose peut se produire ? Y-a-t'il des considérations éthiques à l'affaire  ?</i>\n",
    "<br><br>\n",
    "<a href=\"http://www.iflscience.com/technology/this-racist-soap-dispenser-reveals-why-diversity-in-tech-is-muchneeded/\">Pour en savoir plus</a>.\n",
    "</div>\n",
    "\n",
    "Lorsque l'on considère des résultats éthiques, on utilise les termes *bon* ou *mauvais* pour décrire les jugements sur les gens ou les choses, et *juste* ou *injuste* pour décrire le résultats d'actions spécifiques. Il faut noter cependant que, si juste ou injuste est parfois évident, on se retrouve souvent face à des dilemmes éthiques.\n",
    "\n",
    "Pour déterminer si une action est juste ou non, il faut confronter la tension entre l'intention de l'action et ses conséquences. Est-ce que seules les intentions comptent ? Ou devrions nous seulement considérer les effets ? Et jusqu'à quelle limite doit on pousser les jugements de l'enchaînement suivant : une motivation juste_ menant à une intention _juste_, pour effectuer une ation _juste_ menant à uniquement de _bonnes_ conséquences. Comment évaluer cela face aux faits impossibles à déterminer au moment de la prise de décision ?\n",
    "\n",
    "Il convient aussi de considérer les intérêts en compétition pour ce qui consitue un effet positive ou négatif. A effedt positif pour l'individu prenant la décision peut se révéler une mauvaise décision pour bien d'autres. Inversement, une personne altruiste peut agir uniquement au bénéfice des autres à son propre détriment\n",
    "\n",
    "Les problèmes éthiques n'exigent pas systétmatiquement une analyse des faits pour justifier une décision donnée, mais ils ont un certain nombre de caractéristiques :\n",
    " * _ public_ : le processus par lequel un choix éthique est effectué est connu de tous les participants ;\n",
    " * _ informel_ : le processus ne peut pas toujours être codifié en terme de loi ou de système légal ;\n",
    " * _rationnel_ : malgré l'informalité, la logique utilisée doit être accessible et pouvoir être défendue ;\n",
    " * _impartial_ : toute décision se doit de ne pas favoriser un groupe ou une personne en particulier.\n",
    "\n",
    "Plutôt que d'imposer une ensemble de règles à suivre, l'éthique fournir un cadre dans lequel on peut déterminer si nos objectifs sont conformes à nos valeurs, et si le processus par lequel nous prenons des décisions peut être validé et vérifié par d'autres personnes.\n",
    "\n",
    "Quel que soit le degré de sophistication que les machines atteindront, et à moins que nous visions à bâtir une société \"de machines pour les machines\", les humains seront toujours requis pour décider de quelles considérations éthiques doivent être prises en compte.\n",
    "\n",
    "Il y a des limites à ce que le travail d'analyse peut accomplir, et il est de la responsabilité des individus produisant cette analyse de s'assurer que les hypothèses, les doutes et le contexte soient documentés en même temps que les résultats. Il est particulièrement critique que chacun se sente responsible de soulever les inquiétudes qui pourraient exister autour des données source utilisées dans l'analyse, y compris si l'usage de données personnelles est légitime, ou si les données source et les algorithmes de traitement de ces données sont fiables, \n",
    "\n",
    "\n",
    "## L'analyse de données\n",
    "\n",
    "Ceci fournit une brève introduction à certains des outils d'analyse de données utilisé en Python. Cela ne couvre pas les approches à suivre pour l'analyse de données, qui devra être étudié séparément..\n",
    "\n",
    "### Les tableaux Numpy\n",
    "\n",
    "L'analyse de données requiert souvent d'effectuer des opérations sur de longues listes de données. Numpy est une suite d'outils puissante permettant de travailler rapidement et facilement avec des listes de données entières. Nous référerons à ces listes de données sous le nom de *array* (tableaux) - et si vous êtes familiers avec cette branche des mathématiques, vous pouvez imager ces fonctions comme s'appliquant à des matrices.\n",
    "\n",
    "La convention veut que l'import de Numpy se fasse sous l'étiquette np : `import numpy as np`.\n",
    "\n",
    "Nous allons aussi générer de nombreuses listes de nombre flottants aléatoires pour nos exercices. Nous allons utiliser Python à cette fin avec le module `random`."
   ]
  },
  {
   "cell_type": "code",
   "execution_count": null,
   "metadata": {},
   "outputs": [],
   "source": [
    "import numpy as np\n",
    "import random\n",
    "\n",
    "def generate_float_list(lwr, upr, num):\n",
    "    \"\"\"\n",
    "    Return a list of num random decimal floats ranged between lwr and upr.\n",
    "    \n",
    "    Range(lwr, upr) creates a list of every integer between lwr and upr.\n",
    "    random.sample takes num integers from the range list, chosen randomly.\n",
    "    \"\"\"\n",
    "    int_list = random.sample(range(lwr, upr), num)\n",
    "    return [x/100 for x in int_list]\n",
    "\n",
    "# Crée deux listes\n",
    "height = generate_float_list(100, 220, 10)\n",
    "weight = generate_float_list(5000, 20000, 10)\n",
    "\n",
    "# Convertir en Numpy arrays\n",
    "np_height = np.array(height)\n",
    "np_weight = np.array(weight)\n",
    "\n",
    "print(np_height)\n",
    "print(np_weight)"
   ]
  },
  {
   "cell_type": "markdown",
   "metadata": {},
   "source": [
    "Les carnets de note Jupyter fournissent une fonction de chronométrage utile. En préfixant une ligne de code avec `%time`, vous obtiendrez le temps qu'à mis le code à tourner.\n",
    "\n",
    "Ceci est particulièrement important pour les opérations impliquant de lourds traitements de données pour lesquelles toute amélioration de performance peut s'avérer précieuse.\n",
    "\n",
    "Nous allons pouvoir maintenant effectuer des opérations directement sur l'ensemble des valeurs contenus dans les tableaux Numpy. Voici deux méthodes faciles à utiliser.\n",
    "\n",
    "<div class=\"alert alert-block alert-info\">\n",
    "    <b>Syntaxe</b>\n",
    "    <br>\n",
    "    <ul>\n",
    "        <li><i>Calculs sur tous les éléments :</i> on peut traiter les tableaux Numpy tout comme s'il s'agissait d'entiers ou nombres flottants individuels. Pour cela, les talbeaux doivent avoir la même forme (à savoir, leur nombre d'éléments). On peut par ailleurs appliquer les opérations arithmétiques classiques avec un nombre simple (qui s'appliquent alors à chaque élément)</li>\n",
    "            <li><i>Filtrage :</i> On peut filtrer rapidement les tableaux Numpy avec des opérations booléennes ; par exemple `np_array[np_array > num]` ; pour obtenir une réponse booléenne, `np_array > num`</li>\n",
    "    </ul>\n",
    "</div>"
   ]
  },
  {
   "cell_type": "code",
   "execution_count": null,
   "metadata": {},
   "outputs": [],
   "source": [
    "# Calcul l'indice de masse corporel (IMC, BMI en anglais) en fonction des tailles et poids dans nos tableaux\n",
    "# Chronométrez le calcul - cela ne prendra pas longtemps\n",
    "%time bmi = np_weight / np_height ** 2\n",
    "\n",
    "print(bmi)\n",
    "\n",
    "# Un BMI > 35 indique une obésité sévère. Voyons qui est concerné dans notre échantillon\n",
    "\n",
    "# Pour une réponse booléenne\n",
    "print(bmi > 35)\n",
    "\n",
    "# Ou pour lister seulement les valeurs du BMI au dessus de 35\n",
    "print(bmi[bmi > 35])"
   ]
  },
  {
   "cell_type": "markdown",
   "metadata": {},
   "source": [
    "### Pandas\n",
    "\n",
    "Nous avons brièvement essayer Pandas lors de [notre session sur les modules](03 - Python intermediate.ipynb#Built-in-modules).\n",
    "\n",
    "La description donnée pour Pandas était alors :\n",
    "\n",
    "_**pandas** is a Python package providing fast, flexible, and expressive data structures designed to make working with \"relational\" or \"labeled\" data both easy and intuitive. It aims to be the fundamental high-level building block for doing practical, **real world** data analysis in Python. Additionally, it has the broader goal of becoming **the most powerful and flexible open source data analysis / manipulation tool available in any language**._\n",
    "\n",
    "soit\n",
    "\n",
    "_**pandas** est un paquet Python qui founrit des structures rapides, souples et expressives conçues pour rendre les opérations sur des données relationnelles ou étiquettées à la fois simple et intuitif. Il vise à être la brique fondamentale haute-niveau pour l'analyse de données concrète et pragmatique en Python. Il a par ailleurs le but plus large de devenir **le plus puissant et le plus souple outil d'analyse et de manipulation des données open-source de tous les langages de programmations**._\n",
    "\n",
    "Pandas est développé par [Wes McKinney](http://wesmckinney.com/) et est soutenu par une formidable et très active communauté de développemen. Wes préfère voir pandas écrit en minuscule.\n",
    "\n",
    "Pandas est bâti sur Numpy - ils sont donc fortement liés et intégrés. Pandas permet de manipuler des données soit sous forme de série (`Series`) (de manière semblable à Numpy mais avec des fonctionnalités supplémentaires), ou bien sous forme tabulaire avec des lignes de valeurs et des colonnes nommées (semblable à un tableau Excel).\n",
    "\n",
    "Cette forme tabulaire est appelée un `DataFrame`. Pandas fonctionne bien avec Jupyter Notebook et celui-ci permet d'afficher de manière satisfaisante - il faut pour cela s'assurer que la dernière ligne du bloc de code est le nom du `DataFrame`.\n",
    "\n",
    "Par convention, pandas est importé sous l'étiquette pd, `import pandas as pd`.\n",
    "\n",
    "Le tutoriel suivant est dérivé directement de 'pandas en 10 minutes' dans la [documentation de Pandas](https://pandas.pydata.org/pandas-docs/stable/10min.html). À noter que ceci ne reproduit l'intégralité du tutoriel qui peut être complété sur le site originel.\n",
    "\n",
    "#### Création d'objets\n",
    "\n",
    "Pour créer une `Series`, passez une liste de valeurs et laissez pandas créer un index d'entiers par défaut."
   ]
  },
  {
   "cell_type": "code",
   "execution_count": null,
   "metadata": {},
   "outputs": [],
   "source": [
    "import pandas as pd\n",
    "import numpy as np\n",
    "\n",
    "s = pd.Series([1,3,5,np.nan,6,8])\n",
    "s"
   ]
  },
  {
   "cell_type": "markdown",
   "metadata": {},
   "source": [
    "Notez que `np.nan` est la manière dont Numpy représente la valeur \"pas-un-nombre\" (nan pour \"not a number\"). Par exemple, une division par zéro renvoie `np.nan`. Cela permet d'effectuer des opérations complexes de manière protégée et de gérer les dégâts après coup.\n",
    "\n",
    "Créons un `DataFrame` en utilisant un tableau numpy, avec une index horodaté et des colonnes étiquetées."
   ]
  },
  {
   "cell_type": "code",
   "execution_count": null,
   "metadata": {},
   "outputs": [],
   "source": [
    "# Créons une liste de dates formattées ISO (YYYYMMDD)\n",
    "dates = pd.date_range('20130101', periods=6)\n",
    "dates"
   ]
  },
  {
   "cell_type": "code",
   "execution_count": null,
   "metadata": {},
   "outputs": [],
   "source": [
    "# Créons un DataFrame qui utilise cette liste de données comme index\n",
    "df = pd.DataFrame(np.random.randn(6,4), index=dates, columns=list('ABCD'))\n",
    "df"
   ]
  },
  {
   "cell_type": "markdown",
   "metadata": {},
   "source": [
    "Il est aussi possible d'ajouter des données textuelles et numériques avec un index généré automatiquement."
   ]
  },
  {
   "cell_type": "code",
   "execution_count": null,
   "metadata": {},
   "outputs": [],
   "source": [
    "dict = {\"country\": [\"Brazil\", \"Russia\", \"India\", \"China\", \"South Africa\"],\n",
    "       \"capital\": [\"Brasilia\", \"Moscow\", \"New Dehli\", \"Beijing\", \"Pretoria\"],\n",
    "       \"area\": [8.516, 17.10, 3.286, 9.597, 1.221],\n",
    "       \"population\": [200.4, 143.5, 1252, 1357, 52.98] }\n",
    "\n",
    "brics = pd.DataFrame(dict)\n",
    "brics"
   ]
  },
  {
   "cell_type": "markdown",
   "metadata": {},
   "source": [
    "Les nombres à gauche du teableau forment l'index. Celui-ci permet de faire référence à une ligne donnée. Il est cependant possible d'utiliser votre propre index avec pandas. On pourrait utiliser l'une des colonnes existantes comme index (du moment qu'elle ne contient que des valeurs uniques) ou ajour un index spécialisé."
   ]
  },
  {
   "cell_type": "code",
   "execution_count": null,
   "metadata": {},
   "outputs": [],
   "source": [
    "# Utilisons le code pays ISO à deux lettres comme index\n",
    "brics.index = [\"BR\", \"RU\", \"IN\", \"CH\", \"SA\"]\n",
    "\n",
    "brics"
   ]
  },
  {
   "cell_type": "markdown",
   "metadata": {},
   "source": [
    "#### Visualiser les données\n",
    "\n",
    "Pandas fonctionne avec des jeux de données extrêment larges, y compris plusieurs millions de lignes. Afficher de telles données demande beaucoup d'espace et, pour avoir juste un aperçu de ces données (puisqu'en général, nous travaillerons dessus de manière symbolique), cela peut s'avérer déplaisant. Heureusement, pandas fournir un certain nombre de façons de visualiser et passer en revue les données\n",
    "\n",
    "<div class=\"alert alert-block alert-info\">\n",
    "    <b>Syntaxe</b>\n",
    "    <br>\n",
    "    <ul>\n",
    "        <li>Voir les lignes du haut et du bas de votre tableau (dataframe) avec `df.head()` ou `df.tail(num)` dans lequel `num` est le nombre de lignes à afficher</li>\n",
    "        <li>Voir l'index, les colonnes et les données numpy sous-jacentes avec `df.index`, `df.columns` et `df.values`</li>\n",
    "        <li>Obtenir un résumé statisque de vos données avec `df.describe()`</li>\n",
    "        <li>Transposer les données (i.e. échanger les lignes et les colonnes) avec `df.T`</li>\n",
    "        <li>Trier suivant un axe avec  `df.sort_index(axis=1, ascending=False)` où `axis=1` signifie l'axe des colonnes, et  `axis=0` les lignes</li>\n",
    "        <li>Trier par valeur avec `df.sort_values(by=column)`</li>\n",
    "    </ul>\n",
    "</div>"
   ]
  },
  {
   "cell_type": "code",
   "execution_count": null,
   "metadata": {},
   "outputs": [],
   "source": [
    "# Head (tête de liste)\n",
    "df.head()"
   ]
  },
  {
   "cell_type": "code",
   "execution_count": null,
   "metadata": {},
   "outputs": [],
   "source": [
    "# Tail (queue)\n",
    "df.tail(3)"
   ]
  },
  {
   "cell_type": "code",
   "execution_count": null,
   "metadata": {},
   "outputs": [],
   "source": [
    "# Index\n",
    "df.index"
   ]
  },
  {
   "cell_type": "code",
   "execution_count": null,
   "metadata": {},
   "outputs": [],
   "source": [
    "# Values (valeurs)\n",
    "df.values"
   ]
  },
  {
   "cell_type": "code",
   "execution_count": null,
   "metadata": {},
   "outputs": [],
   "source": [
    "# Résumé statisque\n",
    "df.describe()"
   ]
  },
  {
   "cell_type": "code",
   "execution_count": null,
   "metadata": {},
   "outputs": [],
   "source": [
    "# Transpose\n",
    "df.T"
   ]
  },
  {
   "cell_type": "code",
   "execution_count": null,
   "metadata": {},
   "outputs": [],
   "source": [
    "# Tri suivant un axe\n",
    "df.sort_index(axis=1, ascending=False)"
   ]
  },
  {
   "cell_type": "code",
   "execution_count": null,
   "metadata": {},
   "outputs": [],
   "source": [
    "# Tri des valeurs\n",
    "df.sort_values(by=\"B\")"
   ]
  },
  {
   "cell_type": "markdown",
   "metadata": {},
   "source": [
    "#### Sélections\n",
    "\n",
    "Une des premières étapes en analyse des données est tout simplement de filtrer les données et d'obtenir les morceaux qui nous intéressent le plus.\n",
    "Pandas fournit de nombres approches pour restreindre rapidement les données à ce que l'on désire.\n",
    "<div class=\"alert alert-block alert-info\">\n",
    "    <b>Syntaxe</b>\n",
    "    <br>\n",
    "    <ul>\n",
    "        <li>Sélectionner une seule colonne en faisant référence au dataframe comme à un dictionnaire, avec `df[column]` ou bien, si la conne est en un seul mot, avec `df.column`. Cela renvoie une `Series`</li>\n",
    "        <li>Sélectionner une tranche de manière similaire à la méthode utilisée pour une liste Python, avec `df[]`, par exemple `df[:3]`, ou par indice, `df[\"20130102\":\"20130104\"]`</li>\n",
    "        <li>Utiliser `.loc` pour sélectionner par étiquette, tel que :</li>\n",
    "        <ul>\n",
    "            <li>Obtenir une ligne via une étiquette, par exemple `df.loc[index[0]]`</li>\n",
    "            <li>Obtenir une sélection sur plusieurs axes avec une étiquette avec `df.loc[:, [\"A\", \"B\"]]` où le premier `:` indique une tranche de lignes, et la deuxième liste  `[\"A\", \"B\"]` indique une liste de colonnes</li>\n",
    "        </ul>\n",
    "        <li>Comme avec  Numpy, on peut obtenir une sélection à base de booléeans avec par ex. `df[df.A > num]`</li>\n",
    "    </ul>\n",
    "</div>\n",
    "\n",
    "Il y a _beaucoup_ plus de façon de filtrer les données et d'y accéder, de même que de nombreuses méthodes pour affecter des données dans les tableaux `DataFrame` , mais ceci devrait suffire pour le moment."
   ]
  },
  {
   "cell_type": "code",
   "execution_count": null,
   "metadata": {},
   "outputs": [],
   "source": [
    "# By column\n",
    "df.A"
   ]
  },
  {
   "cell_type": "code",
   "execution_count": null,
   "metadata": {},
   "outputs": [],
   "source": [
    "# By slice\n",
    "df[\"20130102\":\"20130104\"]"
   ]
  },
  {
   "cell_type": "code",
   "execution_count": null,
   "metadata": {},
   "outputs": [],
   "source": [
    "# Cross-section\n",
    "df.loc[dates[0]]"
   ]
  },
  {
   "cell_type": "code",
   "execution_count": null,
   "metadata": {},
   "outputs": [],
   "source": [
    "# Multi-axis\n",
    "df.loc[:, [\"A\", \"B\"]]"
   ]
  },
  {
   "cell_type": "code",
   "execution_count": null,
   "metadata": {},
   "outputs": [],
   "source": [
    "# Boolean indexing\n",
    "df[df.A > 0]"
   ]
  },
  {
   "cell_type": "markdown",
   "metadata": {},
   "source": [
    "### Matplotlib\n",
    "\n",
    "Dans cette dernière section, nous allons faire connaissance avec _Matplotlib_, une bibliothèque puissante et largement utilisée pour les représentations graphiques en Python. Jupyter Notebook fournit une instruction \"magique\" pour créer des graphes directement dans un carnet de vote avec la commande `%matplotlib inline`.\n",
    "\n",
    "Matplotlib, Numpy et Pandas forment un trio incontournable de l'anayse de données.\n",
    "\n",
    "Gardez bien en tête que ceci est une introduction très limitée aux capacités de ces bibliothèques."
   ]
  },
  {
   "cell_type": "code",
   "execution_count": null,
   "metadata": {},
   "outputs": [],
   "source": [
    "import matplotlib.pyplot as plt\n",
    "# Ceci permettra que les graphes de Matplotlib s'affichent directement dans le carnet de note Jupyter\n",
    "%matplotlib inline\n",
    "\n",
    "# Produce a random timeseries\n",
    "ts = pd.Series(np.random.randn(1000), index=pd.date_range('1/1/2000', periods=1000))\n",
    "\n",
    "# Get the cumulative sum of the random numbers generated to mimic a historic data series\n",
    "ts = ts.cumsum()\n",
    "\n",
    "# And magically plot\n",
    "ts.plot()"
   ]
  },
  {
   "cell_type": "code",
   "execution_count": null,
   "metadata": {},
   "outputs": [],
   "source": [
    "# De même avec un tableau DataFrame\n",
    "df = pd.DataFrame(np.random.randn(1000, 4), index=ts.index,\n",
    "                  columns=['A', 'B', 'C', 'D'])\n",
    "\n",
    "df = df.cumsum()\n",
    "\n",
    "# And plot, this time creating a figure and adding a plot and legend to it\n",
    "plt.figure()\n",
    "df.plot()\n",
    "plt.legend(loc='best')"
   ]
  },
  {
   "cell_type": "markdown",
   "metadata": {},
   "source": [
    "Et ceci conclut notre introduction rapide à Python et son utilisation en analyse des données.\n",
    "\n",
    "<div class=\"alert alert-block alert-warning\">\n",
    "    <b>Documentation des modules :</b>\n",
    "    <br>\n",
    "    <ul>\n",
    "        <li><a href=\"https://docs.scipy.org/doc/numpy-dev/user/quickstart.html\">Tutoriel Numpy</a></li>\n",
    "        <li><a href=\"https://pandas.pydata.org/pandas-docs/stable/10min.html\">Tutoriel Pandas</a></li>\n",
    "        <li><a href=\"https://matplotlib.org/users/index.html\">Tutoriel Matplotlib</a></li>\n",
    "        <li><a href=\"https://stackoverflow.com/\">Stack Overflow</a>: lorsque la documentation ne suffit pas ou est trop complexe, Stack Overflow peut se révéler utile. Il s'agit d'une commuanté d'environ 50 millions de développeurs tout autour de monde, à la fois professionnels et amateurs, mais tous passionnés par ce qu'ils font. On peut explorer les archives de questions existantes qui auraient trouvé réponse préalablement, ou à défaut, poser ue nouvealle question.</li>\n",
    "    </ul>\n",
    "</div>\n",
    "\n",
    "[(précédent)](03%20-%20Python%20intermediate.ipynb) | [(index)](00%20-%20Introduction%20to%20ython.ipynb) | [(suivant)](05%20-%20Introduction%20to%20data%20as%20a%20science.ipynb)"
   ]
  }
 ],
 "metadata": {
  "kernelspec": {
   "display_name": "Python 3",
   "language": "python",
   "name": "python3"
  },
  "language_info": {
   "codemirror_mode": {
    "name": "ipython",
    "version": 3
   },
   "file_extension": ".py",
   "mimetype": "text/x-python",
   "name": "python",
   "nbconvert_exporter": "python",
   "pygments_lexer": "ipython3",
   "version": "3.7.1"
  },
  "latex_envs": {
   "LaTeX_envs_menu_present": true,
   "autocomplete": true,
   "bibliofile": "biblio.bib",
   "cite_by": "apalike",
   "current_citInitial": 1,
   "eqLabelWithNumbers": true,
   "eqNumInitial": 1,
   "hotkeys": {
    "equation": "Ctrl-E",
    "itemize": "Ctrl-I"
   },
   "labels_anchors": false,
   "latex_user_defs": false,
   "report_style_numbering": false,
   "user_envs_cfg": false
  }
 },
 "nbformat": 4,
 "nbformat_minor": 2
}
